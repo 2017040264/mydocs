{
 "cells": [
  {
   "cell_type": "markdown",
   "metadata": {},
   "source": [
    "#  <center>基于Transformer实现英语-->西班牙语的翻译任务</center>\n",
    "\n",
    "\n",
    "* 作者信息:\n",
    "    * Github：[2017040264](https://github.com/2017040264)\n",
    "    * AiStudio：[月光下的独孤亮](https://aistudio.baidu.com/aistudio/personalcenter/thirdview/689988)\n",
    "* 更新日期：2022.10.31\n",
    "\n",
    "\n",
    "\n"
   ]
  },
  {
   "cell_type": "markdown",
   "metadata": {},
   "source": [
    "# 1.项目背景\n",
    "在本项目中，我们将构建一个Sequence-to-sequence的 Transformer 模型，并在英语到西班牙语的机器翻译任务中对其进行训练。\n",
    "* Sequence-to-sequence:\n",
    "机器翻译是序列转换模型的一个核心问题，其输入和输出都是长度可变的序列。为了处理这种类型的输入和输出，研究人员设计出一个包含两个主要组件的架构：\n",
    "    * 第一个组件是一个编码器（encoder）：它接受一个长度可变的序列作为输入，并将其转换为具有固定形状的编码状态。\n",
    "    * 第二个组件是解码器（decoder）：它将固定形状的编码状态映射到长度可变的序列。\n",
    "\n",
    "这种架构被称为编码器-解码器（encoder-decoder）架构，如下图所示：\n",
    "\n",
    "![](https://ai-studio-static-online.cdn.bcebos.com/a7cadcd296924fec8f50146faa7d0c1db5c39f0712474be6a3dfe1b44d3270c9)\n",
    "\n",
    "* Transformer:\n",
    "Transformer是Sequence-to-sequence架构的一种实例，其诞生于2017年的《Attention is all you need》,诞生之处该模型就展示出了强大的魅力，刷新了NLP领域的大部分SOTA。现如今在Transformer在CV领域应用也得到了十分广泛的应用。Transformer的框架图如下：\n",
    "\n",
    "![](https://ai-studio-static-online.cdn.bcebos.com/ca0931928b4a41af97a318f66957767c9ffda9b248634f4182cfda80e6a3923a)\n",
    "\n",
    "\n",
    "\n",
    "* 机器翻译：\n",
    "机器翻译（machine translation）指的是将序列从一种语言自动翻译成另一种语言。事实上，这个研究领域可以追溯到数字计算机发明后不久的20世纪40年代， 特别是在第二次世界大战中使用计算机破解语言编码。几十年来，在使用神经网络进行端到端学习的兴起之前，统计学方法在这一领域一直占据主导地位。因为统计机器翻译（statisticalmachine translation）涉及了翻译模型和语言模型等组成部分的统计分析，因此基于神经网络的方法通常被称为 `神经机器翻译（neuralmachine translation）`，用于将两种翻译模型区分开来。\n",
    "\n",
    "\n"
   ]
  },
  {
   "cell_type": "markdown",
   "metadata": {},
   "source": [
    "# 2.环境设置\n",
    "\n",
    "我们需要的依赖主要有：\n",
    "* paddle系列：组装数据集、搭建模型框架\n",
    "* padldenlp系列：数据处理\n",
    "* numpy:  NumPy (Numerical Python) 是 Python 语言的一个扩展程序库，支持大量的维度数组与矩阵运算，此外也针对数组运算提供大量的数学函数库\n",
    "* collections: 主要使用Counter，快速构建语料库字典\n",
    "* string: 字符串库，我们要使用标点符号集合\n",
    "* functools：主要使用partial，用于数据集的构建工作\n",
    "* random: 随机函数库\n",
    "* matplotlib.pyplot：画图使用"
   ]
  },
  {
   "cell_type": "code",
   "execution_count": 1,
   "metadata": {
    "collapsed": false,
    "execution": {
     "iopub.execute_input": "2022-10-31T12:31:50.136830Z",
     "iopub.status.busy": "2022-10-31T12:31:50.136546Z",
     "iopub.status.idle": "2022-10-31T12:31:52.703981Z",
     "shell.execute_reply": "2022-10-31T12:31:52.702712Z",
     "shell.execute_reply.started": "2022-10-31T12:31:50.136802Z"
    },
    "jupyter": {
     "outputs_hidden": false
    },
    "scrolled": true,
    "tags": []
   },
   "outputs": [],
   "source": [
    "import paddle\n",
    "import paddlenlp\n",
    "from paddle.io import Dataset\n",
    "from paddlenlp.data import Vocab\n",
    "\n",
    "import numpy as np\n",
    "import string\n",
    "import random\n",
    "import matplotlib.pyplot as plt\n",
    "from functools import partial\n",
    "from collections import Counter"
   ]
  },
  {
   "cell_type": "markdown",
   "metadata": {},
   "source": [
    "# 3.数据集\n",
    "使用Anki提供的`English-to-Spanish`翻译数据集,下载地址为：[English-to-Spanish数据集](http://storage.googleapis.com/download.tensorflow.org/data/spa-eng.zip)。该数据集总共包含118964条（English,Spanish）语句对。示例如下：\n",
    "\n",
    "\n",
    "| English | Spanish | \n",
    "| -------- | -------- |\n",
    "| Go on home.    |Vete a casa.  | \n",
    "| I can jump.   |Puedo saltar.|\n",
    "\n",
    "\n"
   ]
  },
  {
   "cell_type": "markdown",
   "metadata": {},
   "source": [
    "## 3.1 加载数据集\n",
    "数据集的加载有两种方式：\n",
    "\n",
    "1. 通过链接下载，该方法可能存在下载速度慢等不便利的情况，不推荐。\n",
    "\n",
    "2. 我们已经下载好并上传至AiStudio平台，使用方便，强烈推荐。我们的数据集地址：[【NLP】English-Spanish](https://aistudio.baidu.com/aistudio/datasetdetail/173968/0)"
   ]
  },
  {
   "cell_type": "code",
   "execution_count": 2,
   "metadata": {
    "execution": {
     "iopub.execute_input": "2022-10-31T12:31:52.705847Z",
     "iopub.status.busy": "2022-10-31T12:31:52.705407Z",
     "iopub.status.idle": "2022-10-31T12:31:52.710201Z",
     "shell.execute_reply": "2022-10-31T12:31:52.709336Z",
     "shell.execute_reply.started": "2022-10-31T12:31:52.705818Z"
    },
    "scrolled": true
   },
   "outputs": [],
   "source": [
    "# 下载数据集\n",
    "\n",
    "# from paddle.utils.download import get_path_from_url\n",
    "# URL = \"http://storage.googleapis.com/download.tensorflow.org/data/spa-eng.zip\"\n",
    "# get_path_from_url(URL, \"./data\")\n",
    "# text_file='data/spa-eng/spa.txt' # 数据集路径"
   ]
  },
  {
   "cell_type": "code",
   "execution_count": 3,
   "metadata": {
    "execution": {
     "iopub.execute_input": "2022-10-31T12:31:52.711822Z",
     "iopub.status.busy": "2022-10-31T12:31:52.711422Z",
     "iopub.status.idle": "2022-10-31T12:31:52.716096Z",
     "shell.execute_reply": "2022-10-31T12:31:52.715228Z",
     "shell.execute_reply.started": "2022-10-31T12:31:52.711792Z"
    },
    "scrolled": true,
    "tags": []
   },
   "outputs": [],
   "source": [
    "# 使用我们提供的数据集\n",
    "\n",
    "text_file='data/data173968/spa.txt' # 数据集路径"
   ]
  },
  {
   "cell_type": "markdown",
   "metadata": {},
   "source": [
    "## 3.2 添加[start] token与 [end] token\n",
    "为目标语言：西班牙语，添加[start] token与 [end] token"
   ]
  },
  {
   "cell_type": "code",
   "execution_count": 4,
   "metadata": {
    "execution": {
     "iopub.execute_input": "2022-10-31T12:31:52.717706Z",
     "iopub.status.busy": "2022-10-31T12:31:52.717318Z",
     "iopub.status.idle": "2022-10-31T12:31:52.933050Z",
     "shell.execute_reply": "2022-10-31T12:31:52.931923Z",
     "shell.execute_reply.started": "2022-10-31T12:31:52.717668Z"
    },
    "scrolled": true,
    "tags": []
   },
   "outputs": [],
   "source": [
    "with open(text_file) as f:\n",
    "    lines = f.read().split(\"\\n\")[:-1]\n",
    "text_pairs = []\n",
    "for line in lines:\n",
    "    eng, spa = line.split(\"\\t\")\n",
    "    spa = \"[start] \" + spa + \" [end]\"\n",
    "    text_pairs.append((eng, spa))"
   ]
  },
  {
   "cell_type": "code",
   "execution_count": 5,
   "metadata": {
    "execution": {
     "iopub.execute_input": "2022-10-31T12:31:52.935283Z",
     "iopub.status.busy": "2022-10-31T12:31:52.934497Z",
     "iopub.status.idle": "2022-10-31T12:31:52.947141Z",
     "shell.execute_reply": "2022-10-31T12:31:52.946150Z",
     "shell.execute_reply.started": "2022-10-31T12:31:52.935247Z"
    },
    "scrolled": true,
    "tags": []
   },
   "outputs": [
    {
     "name": "stdout",
     "output_type": "stream",
     "text": [
      "('Are you seriously thinking about getting a divorce?', '[start] ¿Estás pensando seriamente en divorciarte? [end]')\n",
      "('I bought it.', '[start] Lo he comprado. [end]')\n",
      "('He was my student. Now he teaches my children.', '[start] Era alumno mío, ahora enseña a mis hijos. [end]')\n",
      "('It seems Tom knows Mary.', '[start] Parece que Tom conoce a Mary. [end]')\n",
      "('Tom has done a magnificent job.', '[start] Tom ha hecho un excelente trabajo. [end]')\n"
     ]
    }
   ],
   "source": [
    "for _ in range(5):\n",
    "    print(random.choice(text_pairs))"
   ]
  },
  {
   "cell_type": "markdown",
   "metadata": {},
   "source": [
    "## 3.3划分数据集"
   ]
  },
  {
   "cell_type": "code",
   "execution_count": 6,
   "metadata": {
    "execution": {
     "iopub.execute_input": "2022-10-31T12:31:52.949148Z",
     "iopub.status.busy": "2022-10-31T12:31:52.948479Z",
     "iopub.status.idle": "2022-10-31T12:31:53.063128Z",
     "shell.execute_reply": "2022-10-31T12:31:53.062042Z",
     "shell.execute_reply.started": "2022-10-31T12:31:52.949118Z"
    },
    "scrolled": true,
    "tags": []
   },
   "outputs": [
    {
     "name": "stdout",
     "output_type": "stream",
     "text": [
      "118964 total pairs\n",
      "83276 training pairs\n",
      "17844 validation pairs\n",
      "17844 test pairs\n"
     ]
    }
   ],
   "source": [
    "random.shuffle(text_pairs)\n",
    "num_val_samples = int(0.15 * len(text_pairs))\n",
    "num_train_samples = len(text_pairs) - 2 * num_val_samples\n",
    "train_pairs = text_pairs[:num_train_samples]\n",
    "val_pairs = text_pairs[num_train_samples : num_train_samples + num_val_samples]\n",
    "test_pairs = text_pairs[num_train_samples + num_val_samples :]\n",
    "\n",
    "print(f\"{len(text_pairs)} total pairs\")\n",
    "print(f\"{len(train_pairs)} training pairs\")\n",
    "print(f\"{len(val_pairs)} validation pairs\")\n",
    "print(f\"{len(test_pairs)} test pairs\")"
   ]
  },
  {
   "cell_type": "code",
   "execution_count": 7,
   "metadata": {
    "execution": {
     "iopub.execute_input": "2022-10-31T12:31:53.067107Z",
     "iopub.status.busy": "2022-10-31T12:31:53.066386Z",
     "iopub.status.idle": "2022-10-31T12:31:53.157337Z",
     "shell.execute_reply": "2022-10-31T12:31:53.156285Z",
     "shell.execute_reply.started": "2022-10-31T12:31:53.067061Z"
    },
    "scrolled": true,
    "tags": []
   },
   "outputs": [],
   "source": [
    "train_eng_texts = [pair[0] for pair in train_pairs]\n",
    "train_spa_texts = [pair[1] for pair in train_pairs]\n",
    "\n",
    "val_eng_texts = [pair[0] for pair in val_pairs]\n",
    "val_spa_texts = [pair[1] for pair in val_pairs]\n",
    "\n",
    "test_eng_texts = [pair[0] for pair in test_pairs]\n",
    "test_spa_texts = [pair[1] for pair in test_pairs]"
   ]
  },
  {
   "cell_type": "markdown",
   "metadata": {},
   "source": [
    "## 3.4 数据集预处理\n",
    "* save_punctuation=True:  保留标点符号，在标点之前（之后）加空格；\n",
    "* save_punctuation=False: 删除所有的标点"
   ]
  },
  {
   "cell_type": "code",
   "execution_count": 8,
   "metadata": {
    "execution": {
     "iopub.execute_input": "2022-10-31T12:31:53.159177Z",
     "iopub.status.busy": "2022-10-31T12:31:53.158732Z",
     "iopub.status.idle": "2022-10-31T12:31:53.166023Z",
     "shell.execute_reply": "2022-10-31T12:31:53.165168Z",
     "shell.execute_reply.started": "2022-10-31T12:31:53.159147Z"
    },
    "scrolled": true,
    "tags": []
   },
   "outputs": [],
   "source": [
    "def pre_process(datas,save_punctuation=False):\n",
    "    dataset=[]\n",
    "    # 定义标点符号集合\n",
    "    \n",
    "    strip_chars = string.punctuation + \"¿¡\" \n",
    "    strip_chars = strip_chars.replace(\"[\", \"\")\n",
    "    strip_chars = strip_chars.replace(\"]\", \"\")\n",
    "\n",
    "    for i in range(len(datas)):\n",
    "        lowercase=datas[i].lower() # 全部转为小写\n",
    "\n",
    "        out=\"\"\n",
    "        if save_punctuation:\n",
    "            # 在标点符号之前加空格，需注意有特殊情况\n",
    "            for low in lowercase:\n",
    "                if low in strip_chars:\n",
    "                    if low==\"¿\"or low==\"¡\": # 西班牙语的【反问号、反叹号】...百度一下，你就知道\n",
    "                        out+=low+\" \"\n",
    "                    else:\n",
    "                        out+=\" \"+low\n",
    "                else:\n",
    "                    out+=low\n",
    "        else:\n",
    "            # 也可以选择删除除所有的标点\n",
    "            for low in lowercase:\n",
    "                if low not in strip_chars:\n",
    "                    out+=low\n",
    "                    \n",
    "        dataset.append(out)\n",
    "    return dataset"
   ]
  },
  {
   "cell_type": "code",
   "execution_count": 9,
   "metadata": {
    "execution": {
     "iopub.execute_input": "2022-10-31T12:31:53.167721Z",
     "iopub.status.busy": "2022-10-31T12:31:53.167323Z",
     "iopub.status.idle": "2022-10-31T12:31:54.010668Z",
     "shell.execute_reply": "2022-10-31T12:31:54.009567Z",
     "shell.execute_reply.started": "2022-10-31T12:31:53.167683Z"
    },
    "scrolled": true,
    "tags": []
   },
   "outputs": [],
   "source": [
    "train_eng_texts_pre=pre_process(train_eng_texts)\n",
    "train_spa_texts_pre=pre_process(train_spa_texts)\n",
    "\n",
    "val_eng_texts_pre=pre_process(val_eng_texts)\n",
    "val_spa_texts_pre=pre_process(val_spa_texts)\n",
    "\n",
    "test_eng_texts_pre=pre_process(test_eng_texts)\n",
    "test_spa_texts_pre=pre_process(test_spa_texts)"
   ]
  },
  {
   "cell_type": "code",
   "execution_count": 10,
   "metadata": {
    "execution": {
     "iopub.execute_input": "2022-10-31T12:31:54.012883Z",
     "iopub.status.busy": "2022-10-31T12:31:54.012122Z",
     "iopub.status.idle": "2022-10-31T12:31:54.029869Z",
     "shell.execute_reply": "2022-10-31T12:31:54.028871Z",
     "shell.execute_reply.started": "2022-10-31T12:31:54.012848Z"
    },
    "scrolled": true
   },
   "outputs": [
    {
     "name": "stdout",
     "output_type": "stream",
     "text": [
      "预处理结果展示：\n",
      "英语：标准化处理之前： Tom wants to stay single.\n",
      "英语：标准化处理之后： tom wants to stay single\n",
      "西班牙语：标准化处理之前： [start] Tom quiere seguir soltero. [end]\n",
      "西班牙语：标准化处理之后： [start] tom quiere seguir soltero [end]\n"
     ]
    }
   ],
   "source": [
    "print(\"预处理结果展示：\")\n",
    "print(\"英语：标准化处理之前：\",train_eng_texts[0])\n",
    "print(\"英语：标准化处理之后：\",train_eng_texts_pre[0])\n",
    "\n",
    "print(\"西班牙语：标准化处理之前：\",train_spa_texts[0])\n",
    "print(\"西班牙语：标准化处理之后：\",train_spa_texts_pre[0])"
   ]
  },
  {
   "cell_type": "markdown",
   "metadata": {},
   "source": [
    "## 3.5 统计句子长度\n",
    "* 通过统计句子长度进而合理的网络的输入向量的长度\n",
    "从统计信息可以看出，英语和西班牙语的句子长度大部分都在20以下"
   ]
  },
  {
   "cell_type": "markdown",
   "metadata": {},
   "source": [
    "#### 3.5.1 英语句子长度"
   ]
  },
  {
   "cell_type": "code",
   "execution_count": 11,
   "metadata": {
    "execution": {
     "iopub.execute_input": "2022-10-31T12:31:54.031966Z",
     "iopub.status.busy": "2022-10-31T12:31:54.031214Z",
     "iopub.status.idle": "2022-10-31T12:31:54.477766Z",
     "shell.execute_reply": "2022-10-31T12:31:54.476887Z",
     "shell.execute_reply.started": "2022-10-31T12:31:54.031932Z"
    },
    "scrolled": true
   },
   "outputs": [
    {
     "data": {
      "image/png": "[encoded data removed]",
      "text/plain": [
       "<Figure size 640x480 with 1 Axes>"
      ]
     },
     "metadata": {},
     "output_type": "display_data"
    }
   ],
   "source": [
    "dicta=dict()\n",
    "for text in train_eng_texts_pre:\n",
    "    lent=len(text.split())\n",
    "    if lent in dicta.keys():\n",
    "        dicta[lent]+=1\n",
    "    else:\n",
    "        dicta[lent]=1\n",
    "lita=sorted(dicta.items(),key=lambda x:x[0],reverse=True)\n",
    "\n",
    "x=[l[0] for l in lita]\n",
    "y=[l[1] for l in lita]\n",
    "plt.bar(x, y)  \n",
    "plt.xlabel('English sentences length')\n",
    "plt.ylabel('nums')\n",
    "plt.title('Information on the length of English sentences')\n",
    "plt.show()"
   ]
  },
  {
   "cell_type": "markdown",
   "metadata": {},
   "source": [
    "#### 3.5.2 西班牙语句子长度"
   ]
  },
  {
   "cell_type": "code",
   "execution_count": 12,
   "metadata": {
    "execution": {
     "iopub.execute_input": "2022-10-31T12:31:54.479457Z",
     "iopub.status.busy": "2022-10-31T12:31:54.479016Z",
     "iopub.status.idle": "2022-10-31T12:31:54.756963Z",
     "shell.execute_reply": "2022-10-31T12:31:54.756003Z",
     "shell.execute_reply.started": "2022-10-31T12:31:54.479426Z"
    },
    "scrolled": true
   },
   "outputs": [
    {
     "data": {
      "image/png": "[encoded data removed]",
      "text/plain": [
       "<Figure size 640x480 with 1 Axes>"
      ]
     },
     "metadata": {},
     "output_type": "display_data"
    }
   ],
   "source": [
    "dicta=dict()\n",
    "for text in train_spa_texts_pre:\n",
    "    lent=len(text.split())\n",
    "    if lent in dicta.keys():\n",
    "        dicta[lent]+=1\n",
    "    else:\n",
    "        dicta[lent]=1\n",
    "lita=sorted(dicta.items(),key=lambda x:x[0],reverse=True)\n",
    "\n",
    "x=[l[0] for l in lita]\n",
    "y=[l[1] for l in lita]\n",
    "plt.bar(x, y)  \n",
    "plt.xlabel('Spanish sentences length')\n",
    "plt.ylabel('nums')\n",
    "plt.title('Information on the length of Spanish sentences')\n",
    "plt.show()"
   ]
  },
  {
   "cell_type": "markdown",
   "metadata": {},
   "source": [
    "## 3.6 用训练集分别构造英语和西班牙语的语料库"
   ]
  },
  {
   "cell_type": "code",
   "execution_count": 13,
   "metadata": {
    "collapsed": false,
    "execution": {
     "iopub.execute_input": "2022-10-31T12:31:54.758539Z",
     "iopub.status.busy": "2022-10-31T12:31:54.758145Z",
     "iopub.status.idle": "2022-10-31T12:31:54.948894Z",
     "shell.execute_reply": "2022-10-31T12:31:54.948019Z",
     "shell.execute_reply.started": "2022-10-31T12:31:54.758510Z"
    },
    "jupyter": {
     "outputs_hidden": false
    },
    "scrolled": true,
    "tags": []
   },
   "outputs": [
    {
     "name": "stdout",
     "output_type": "stream",
     "text": [
      "['tom', 'wants', 'to']\n",
      "['[start]', 'tom', 'quiere']\n"
     ]
    }
   ],
   "source": [
    "def build_cropus(data):\n",
    "    crpous=[]\n",
    "    for i in range(len(data)):\n",
    "        cr=data[i].strip().lower()\n",
    "        cr=cr.split()\n",
    "        crpous.extend(cr)\n",
    "    return crpous\n",
    "\n",
    "eng_crpous=build_cropus(train_eng_texts_pre)\n",
    "spa_crpous=build_cropus(train_spa_texts_pre)\n",
    "\n",
    "print(eng_crpous[:3])\n",
    "print(spa_crpous[:3])"
   ]
  },
  {
   "cell_type": "code",
   "execution_count": 14,
   "metadata": {
    "execution": {
     "iopub.execute_input": "2022-10-31T12:31:54.950633Z",
     "iopub.status.busy": "2022-10-31T12:31:54.950044Z",
     "iopub.status.idle": "2022-10-31T12:31:54.956976Z",
     "shell.execute_reply": "2022-10-31T12:31:54.956281Z",
     "shell.execute_reply.started": "2022-10-31T12:31:54.950603Z"
    },
    "scrolled": true
   },
   "outputs": [],
   "source": [
    "# 根据给定的词汇量,按照词汇出现的频率构造词典，\r\n",
    "def build_dict(corpus,vocab_size):\r\n",
    "    # 首先统计每个不同词的频率（出现的次数），使用一个词典记录\r\n",
    "    word_freq_dict = dict()\r\n",
    "    for word in corpus:\r\n",
    "        if word not in word_freq_dict:\r\n",
    "            word_freq_dict[word] = 0\r\n",
    "        word_freq_dict[word] += 1\r\n",
    "\r\n",
    "    # 将词典中的词，按照出现次数排序，出现次数越高，排序越靠前\r\n",
    "    word_freq_dict = sorted(word_freq_dict.items(), key = lambda x:x[1], reverse = True)\r\n",
    "\r\n",
    "\r\n",
    "    # 构造2个不同的词典\r\n",
    "    # 每个词到id的映射关系：word2id_dict\r\n",
    "    # 每个id到词的映射关系：id2word_dict\r\n",
    "    word2id_dict = {'<pad>':0,'<unk>':1}\r\n",
    "    id2word_dict = {0:'<pad>',1:'<unk>'}\r\n",
    "\r\n",
    "    # 按照频率，从高到低，开始遍历每个单词，并为这个单词构造一个独一无二的id\r\n",
    "    i=2\r\n",
    "    for word, freq in word_freq_dict:\r\n",
    "        if i<vocab_size:\r\n",
    "            # curr_id = len(word2id_dict)\r\n",
    "            word2id_dict[word] = i\r\n",
    "            id2word_dict[i] = word\r\n",
    "            i+=1\r\n",
    "        else: # 超过指定的词汇量，指向<unk>\r\n",
    "            word2id_dict[word]=1\r\n",
    "    return word2id_dict, id2word_dict"
   ]
  },
  {
   "cell_type": "code",
   "execution_count": 15,
   "metadata": {
    "execution": {
     "iopub.execute_input": "2022-10-31T12:31:54.958515Z",
     "iopub.status.busy": "2022-10-31T12:31:54.957983Z",
     "iopub.status.idle": "2022-10-31T12:31:55.314884Z",
     "shell.execute_reply": "2022-10-31T12:31:55.313923Z",
     "shell.execute_reply.started": "2022-10-31T12:31:54.958488Z"
    },
    "scrolled": true
   },
   "outputs": [
    {
     "name": "stdout",
     "output_type": "stream",
     "text": [
      "我们设置的英语总词汇为： 15000 \t我们设置的英语总词汇为： 15000\n",
      "总的英语词汇量为： 12092 \t\t我们实际使用的英语词汇量为 12092\n",
      "总的西班牙语词汇量为： 22445 \t我们实际使用的西班牙语词汇量为 15000\n"
     ]
    }
   ],
   "source": [
    "vocab_size = 15000 #设置词汇量，英语和西班牙语可分开设置；但为减少参数，我们在这里设置一个统一词汇量\r\n",
    "eng2id_dict,id2eng_dict=build_dict(eng_crpous,vocab_size)\r\n",
    "spa2id_dict,id2spa_dict=build_dict(spa_crpous,vocab_size)\r\n",
    "\r\n",
    "print(\"我们设置的英语总词汇为：\",vocab_size,'\\t我们设置的英语总词汇为：',vocab_size)\r\n",
    "print(\"总的英语词汇量为：\",len(eng2id_dict),\"\\t\\t我们实际使用的英语词汇量为\",len(id2eng_dict))\r\n",
    "print(\"总的西班牙语词汇量为：\",len(spa2id_dict),\"\\t我们实际使用的西班牙语词汇量为\",len(id2spa_dict))"
   ]
  },
  {
   "cell_type": "markdown",
   "metadata": {},
   "source": [
    "## 3.7 输入向量化\n"
   ]
  },
  {
   "cell_type": "code",
   "execution_count": 16,
   "metadata": {
    "execution": {
     "iopub.execute_input": "2022-10-31T12:31:55.316792Z",
     "iopub.status.busy": "2022-10-31T12:31:55.316136Z",
     "iopub.status.idle": "2022-10-31T12:31:55.322882Z",
     "shell.execute_reply": "2022-10-31T12:31:55.322019Z",
     "shell.execute_reply.started": "2022-10-31T12:31:55.316759Z"
    },
    "scrolled": true,
    "tags": []
   },
   "outputs": [],
   "source": [
    "\r\n",
    "def build_tensor(data,dicta,maxlen):\r\n",
    "    tensor=[]\r\n",
    "    for i in range(len(data)):\r\n",
    "        subtensor=[]\r\n",
    "        lista=data[i].split()\r\n",
    "        for j in range(len(lista)):\r\n",
    "            index=dicta.get(lista[j])\r\n",
    "            # 对于训练解和测试集，可能会出现未在词表中的词汇，此时index会返回None\r\n",
    "            if index==None:\r\n",
    "                index=1\r\n",
    "            subtensor.append(index)\r\n",
    "    \r\n",
    "        if len(subtensor) < maxlen:\r\n",
    "            subtensor+=[0]*(maxlen-len(subtensor))\r\n",
    "        else:\r\n",
    "            subtensor=subtensor[:maxlen]\r\n",
    "\r\n",
    "        tensor.append(subtensor)\r\n",
    "    return np.array(tensor)"
   ]
  },
  {
   "cell_type": "code",
   "execution_count": 17,
   "metadata": {
    "collapsed": false,
    "execution": {
     "iopub.execute_input": "2022-10-31T12:31:55.324659Z",
     "iopub.status.busy": "2022-10-31T12:31:55.324010Z",
     "iopub.status.idle": "2022-10-31T12:31:57.336987Z",
     "shell.execute_reply": "2022-10-31T12:31:57.335984Z",
     "shell.execute_reply.started": "2022-10-31T12:31:55.324628Z"
    },
    "jupyter": {
     "outputs_hidden": false
    },
    "scrolled": true,
    "tags": []
   },
   "outputs": [],
   "source": [
    "sequence_length = 20 # 语句长度我们统一设置为20，可以依据3.5小结的统计信息分开设置\n",
    "\n",
    "train_eng_tensor=build_tensor(train_eng_texts_pre,eng2id_dict,sequence_length)\n",
    "val_eng_tensor=build_tensor(val_eng_texts_pre,eng2id_dict,sequence_length)\n",
    "test_eng_tensor=build_tensor(test_eng_texts_pre,eng2id_dict,sequence_length)\n",
    "\n",
    "train_spa_tensor=build_tensor(train_spa_texts_pre,spa2id_dict,sequence_length+1)\n",
    "val_spa_tensor=build_tensor(val_spa_texts_pre,spa2id_dict,sequence_length+1)\n",
    "test_spa_tensor=build_tensor(test_spa_texts_pre,spa2id_dict,sequence_length+1)"
   ]
  },
  {
   "cell_type": "code",
   "execution_count": 18,
   "metadata": {
    "execution": {
     "iopub.execute_input": "2022-10-31T12:31:57.338586Z",
     "iopub.status.busy": "2022-10-31T12:31:57.338173Z",
     "iopub.status.idle": "2022-10-31T12:31:57.348456Z",
     "shell.execute_reply": "2022-10-31T12:31:57.347740Z",
     "shell.execute_reply.started": "2022-10-31T12:31:57.338539Z"
    },
    "scrolled": true,
    "tags": []
   },
   "outputs": [
    {
     "name": "stdout",
     "output_type": "stream",
     "text": [
      "tom is an intelligent person\n",
      "[   6    8   67 1244  285    0    0    0    0    0    0    0    0    0\n",
      "    0    0    0    0    0    0]\n",
      "[start] tom es una persona inteligente [end]\n",
      "[  2   8  12  19 243 676   3   0   0   0   0   0   0   0   0   0   0   0\n",
      "   0   0   0]\n"
     ]
    }
   ],
   "source": [
    "print(val_eng_texts_pre[0])\n",
    "print(val_eng_tensor[0])\n",
    "\n",
    "print(val_spa_texts_pre[0])\n",
    "print(val_spa_tensor[0])"
   ]
  },
  {
   "cell_type": "markdown",
   "metadata": {},
   "source": [
    "## 3.8 封装数据集"
   ]
  },
  {
   "cell_type": "code",
   "execution_count": 19,
   "metadata": {
    "collapsed": false,
    "execution": {
     "iopub.execute_input": "2022-10-31T12:31:57.349817Z",
     "iopub.status.busy": "2022-10-31T12:31:57.349491Z",
     "iopub.status.idle": "2022-10-31T12:31:57.355230Z",
     "shell.execute_reply": "2022-10-31T12:31:57.354519Z",
     "shell.execute_reply.started": "2022-10-31T12:31:57.349791Z"
    },
    "jupyter": {
     "outputs_hidden": false
    },
    "scrolled": true,
    "tags": []
   },
   "outputs": [],
   "source": [
    "class MyDataset(Dataset):\n",
    "    \"\"\"\n",
    "    步骤一：继承paddle.io.Dataset类\n",
    "    \"\"\"\n",
    "    def __init__(self, eng,spa):\n",
    "        \"\"\"\n",
    "        步骤二：实现构造函数，定义数据集大小\n",
    "        \"\"\"\n",
    "        super(MyDataset, self).__init__()\n",
    "        self.eng = eng\n",
    "        self.spa=spa\n",
    "\n",
    "    def __getitem__(self, index):\n",
    "        \"\"\"\n",
    "        步骤三：实现__getitem__方法，定义指定index时如何获取数据，并返回单条数据（训练数据，对应的标签）\n",
    "        \"\"\"\n",
    "        return self.eng[index], self.spa[index]\n",
    "\n",
    "    def __len__(self):\n",
    "        \"\"\"\n",
    "        步骤四：实现__len__方法，返回数据集总数目\n",
    "        \"\"\"\n",
    "        return self.eng.shape[0]\n",
    "\n"
   ]
  },
  {
   "cell_type": "code",
   "execution_count": 20,
   "metadata": {
    "execution": {
     "iopub.execute_input": "2022-10-31T12:31:57.356502Z",
     "iopub.status.busy": "2022-10-31T12:31:57.356180Z",
     "iopub.status.idle": "2022-10-31T12:31:57.361223Z",
     "shell.execute_reply": "2022-10-31T12:31:57.360573Z",
     "shell.execute_reply.started": "2022-10-31T12:31:57.356475Z"
    },
    "scrolled": true,
    "tags": []
   },
   "outputs": [],
   "source": [
    "def prepare_input(inputs,padid=0):\n",
    "\n",
    "    src=np.array([inputsub[0] for inputsub in inputs])\n",
    "    trg=np.array([inputsub[1] for inputsub in inputs])\n",
    "    trg_mask =(trg[:,:-1]!=padid).astype(paddle.get_default_dtype())\n",
    "    return src,trg[:,:-1],trg[:,1:,np.newaxis],trg_mask "
   ]
  },
  {
   "cell_type": "code",
   "execution_count": 21,
   "metadata": {
    "collapsed": false,
    "execution": {
     "iopub.execute_input": "2022-10-31T12:31:57.362439Z",
     "iopub.status.busy": "2022-10-31T12:31:57.362131Z",
     "iopub.status.idle": "2022-10-31T12:31:57.367651Z",
     "shell.execute_reply": "2022-10-31T12:31:57.367014Z",
     "shell.execute_reply.started": "2022-10-31T12:31:57.362414Z"
    },
    "jupyter": {
     "outputs_hidden": false
    },
    "scrolled": true
   },
   "outputs": [],
   "source": [
    "# 封装数据集\n",
    "\n",
    "BATCH_SIZE=64 \n",
    "\n",
    "train_dataset = MyDataset(train_eng_tensor,train_spa_tensor)\n",
    "train_loader = paddle.io.DataLoader(train_dataset, batch_size=BATCH_SIZE, shuffle=True,drop_last=True,collate_fn=partial(prepare_input))\n",
    "\n",
    "val_dataset=MyDataset(val_eng_tensor,val_spa_tensor)\n",
    "val_loader=paddle.io.DataLoader(val_dataset,batch_size=BATCH_SIZE,shuffle=True,drop_last=True,collate_fn=partial(prepare_input))"
   ]
  },
  {
   "cell_type": "code",
   "execution_count": 22,
   "metadata": {
    "execution": {
     "iopub.execute_input": "2022-10-31T12:31:57.368846Z",
     "iopub.status.busy": "2022-10-31T12:31:57.368554Z",
     "iopub.status.idle": "2022-10-31T12:31:59.212970Z",
     "shell.execute_reply": "2022-10-31T12:31:59.211969Z",
     "shell.execute_reply.started": "2022-10-31T12:31:57.368823Z"
    },
    "scrolled": true,
    "tags": []
   },
   "outputs": [
    {
     "name": "stdout",
     "output_type": "stream",
     "text": [
      "[64, 20]\n",
      "[64, 20]\n",
      "[64, 20, 1]\n",
      "[64, 20]\n"
     ]
    }
   ],
   "source": [
    "for i,data in enumerate(val_loader):\n",
    "    for d in data:\n",
    "        print(d.shape)\n",
    "    break"
   ]
  },
  {
   "cell_type": "markdown",
   "metadata": {},
   "source": [
    "# 4.模型组网\n",
    "\n"
   ]
  },
  {
   "cell_type": "code",
   "execution_count": 23,
   "metadata": {
    "execution": {
     "iopub.execute_input": "2022-10-31T12:31:59.214650Z",
     "iopub.status.busy": "2022-10-31T12:31:59.214224Z",
     "iopub.status.idle": "2022-10-31T12:31:59.218685Z",
     "shell.execute_reply": "2022-10-31T12:31:59.217942Z",
     "shell.execute_reply.started": "2022-10-31T12:31:59.214618Z"
    },
    "scrolled": true
   },
   "outputs": [],
   "source": [
    "# 为方便调试网络，我们提前定义一些参数\r\n",
    "embed_dim=256 # 词嵌入embedding的维度\r\n",
    "latent_dim=2048 # feed forward 前馈神经网络的相关参数\r\n",
    "num_heads=8 # 多头注意力机制的‘头’数"
   ]
  },
  {
   "cell_type": "markdown",
   "metadata": {},
   "source": [
    "## 4.1 Encoder\n",
    "Encoder部分主要包含了多头注意力机制、层归一化层以及前馈神经网络序列。\n",
    "* MultiHeadAttention ：使用`paddle.nn.MultiHeadAttention`实现多头注意力机制，需要注意其掩码attn_mask需要的shape是[batch_szie,num_heads,sequence_legth,sequence_legth]\n",
    "* Feed Forward：点式前馈网络由两层全联接层组成，两层之间有一个 ReLU 激活函数。\n",
    "* LayerNorm：归一化层\n"
   ]
  },
  {
   "cell_type": "code",
   "execution_count": 24,
   "metadata": {
    "execution": {
     "iopub.execute_input": "2022-10-31T12:31:59.220051Z",
     "iopub.status.busy": "2022-10-31T12:31:59.219721Z",
     "iopub.status.idle": "2022-10-31T12:31:59.228963Z",
     "shell.execute_reply": "2022-10-31T12:31:59.228257Z",
     "shell.execute_reply.started": "2022-10-31T12:31:59.220025Z"
    },
    "scrolled": true
   },
   "outputs": [],
   "source": [
    "class TransformerEncoder(paddle.nn.Layer):\n",
    "    def __init__(self, embed_dim, dense_dim, num_heads):\n",
    "        super(TransformerEncoder, self).__init__()\n",
    "        self.embed_dim = embed_dim\n",
    "        self.dense_dim = dense_dim\n",
    "        self.num_heads = num_heads\n",
    "        self.attention = paddle.nn.MultiHeadAttention(num_heads=num_heads, embed_dim=embed_dim, dropout =0.1)\n",
    "\n",
    "        \n",
    "        self.dense_proj =paddle.nn.Sequential(\n",
    "            paddle.nn.Linear(embed_dim, dense_dim), \n",
    "            paddle.nn.ReLU(),\n",
    "            paddle.nn.Linear(dense_dim, embed_dim) )\n",
    "\n",
    "        self.layernorm_1 = paddle.nn.LayerNorm(embed_dim)\n",
    "        self.layernorm_2 = paddle.nn.LayerNorm(embed_dim)\n",
    "        self.supports_masking = True\n",
    "\n",
    "    def forward(self, inputs, mask=None):\n",
    "        padding_mask=None\n",
    "        if mask is not None:\n",
    "            padding_mask = paddle.cast(mask[:, np.newaxis, np.newaxis, :], dtype=\"int32\")\n",
    "        #print(\"inputs.shape\",inputs.shape)\n",
    "\n",
    "        attention_output = self.attention(query=inputs, value=inputs, key=inputs, attn_mask=padding_mask)\n",
    "        #print(\"attention_output.shape\",attention_output.shape)\n",
    "\n",
    "        proj_input = self.layernorm_1(inputs + attention_output)\n",
    "        proj_output = self.dense_proj(proj_input)\n",
    "        return self.layernorm_2(proj_input + proj_output)\n",
    "\n",
    "# pencoder=TransformerEncoder(embed_dim, latent_dim, num_heads)\n",
    "# print(pencoder)\n",
    "# inputs=paddle.rand([64,20,256])\n",
    "# print(\"inputs.shape:\",inputs.shape)\n",
    "# out=pencoder(inputs)\n",
    "# print(\"out.shape:\",out.shape)"
   ]
  },
  {
   "cell_type": "markdown",
   "metadata": {},
   "source": [
    "## 4.2 位置编码\n",
    "Transformer模型并不包括任何的循环或卷积网络，所以模型添加了位置编码，为模型提供一些关于单词在句子中相对位置的信息。我们用`paddle.nn.Embedding`实现位置编码，其中`num_embeddings=sequence_length`。"
   ]
  },
  {
   "cell_type": "code",
   "execution_count": 25,
   "metadata": {
    "execution": {
     "iopub.execute_input": "2022-10-31T12:31:59.234425Z",
     "iopub.status.busy": "2022-10-31T12:31:59.234028Z",
     "iopub.status.idle": "2022-10-31T12:31:59.241243Z",
     "shell.execute_reply": "2022-10-31T12:31:59.240432Z",
     "shell.execute_reply.started": "2022-10-31T12:31:59.234398Z"
    },
    "scrolled": true
   },
   "outputs": [],
   "source": [
    "class PositionalEmbedding(paddle.nn.Layer):\n",
    "    def __init__(self, sequence_length, vocab_size, embed_dim):\n",
    "        super(PositionalEmbedding, self).__init__()\n",
    "        self.token_embeddings = paddle.nn.Embedding(num_embeddings =vocab_size, embedding_dim =embed_dim)\n",
    "        self.position_embeddings = paddle.nn.Embedding(num_embeddings =sequence_length, embedding_dim =embed_dim)\n",
    "\n",
    "        self.sequence_length = sequence_length\n",
    "        self.vocab_size = vocab_size\n",
    "        self.embed_dim = embed_dim\n",
    "\n",
    "    def forward(self, inputs):\n",
    "        length = inputs.shape[-1]\n",
    "        positions = paddle.arange(start=0, end=length, step=1)\n",
    "        embedded_tokens = self.token_embeddings(inputs)\n",
    "        embedded_positions = self.position_embeddings(positions)\n",
    "        return embedded_tokens + embedded_positions\n",
    "\n",
    "    def compute_mask(self, inputs, mask=None):\n",
    "        return paddle.not_equal(inputs, 0)\n",
    "\n",
    "# ps=PositionalEmbedding(20,15000,256)\n",
    "# print(ps)\n",
    "# inputs=paddle.randint(0,15000,[64,20])\n",
    "# print(\"inputs.shape:\",inputs.shape)\n",
    "# out=ps(inputs)\n",
    "# print(\"out.shape:\",out.shape)"
   ]
  },
  {
   "cell_type": "markdown",
   "metadata": {},
   "source": [
    "## 4.3 Decoder\n",
    "编码器含有两个多头注意力组件，一个用于处理西班牙语的输入，另一个用于处理编码器的输出和前一个多头注意力机制的输出。"
   ]
  },
  {
   "cell_type": "code",
   "execution_count": 26,
   "metadata": {
    "execution": {
     "iopub.execute_input": "2022-10-31T12:31:59.242875Z",
     "iopub.status.busy": "2022-10-31T12:31:59.242388Z",
     "iopub.status.idle": "2022-10-31T12:31:59.255739Z",
     "shell.execute_reply": "2022-10-31T12:31:59.254864Z",
     "shell.execute_reply.started": "2022-10-31T12:31:59.242845Z"
    },
    "scrolled": true
   },
   "outputs": [],
   "source": [
    "class TransformerDecoder(paddle.nn.Layer):\n",
    "    def __init__(self, embed_dim, latent_dim, num_heads):\n",
    "        super(TransformerDecoder, self).__init__()\n",
    "        self.embed_dim = embed_dim\n",
    "        self.latent_dim = latent_dim\n",
    "        self.num_heads = num_heads\n",
    "        self.attention_1 = paddle.nn.MultiHeadAttention(num_heads=num_heads, embed_dim=embed_dim)\n",
    "\n",
    "        self.attention_2 = paddle.nn.MultiHeadAttention(num_heads=num_heads, embed_dim=embed_dim)\n",
    "\n",
    "        self.dense_proj = paddle.nn.Sequential(\n",
    "            paddle.nn.Linear(embed_dim, latent_dim), \n",
    "            paddle.nn.ReLU(),\n",
    "            paddle.nn.Linear(latent_dim, embed_dim) )\n",
    "\n",
    "        self.layernorm_1 = paddle.nn.LayerNorm(embed_dim)\n",
    "        self.layernorm_2 = paddle.nn.LayerNorm(embed_dim)\n",
    "        self.layernorm_3 = paddle.nn.LayerNorm(embed_dim)\n",
    "        self.supports_masking = True\n",
    "\n",
    "    def forward(self, inputs, encoder_outputs, mask=None):\n",
    "        causal_mask = self.get_causal_attention_mask(inputs) #[batch_size, equence_length, sequence_length]\n",
    "        padding_mask=None\n",
    "        if mask is not None:\n",
    "            padding_mask = paddle.cast(mask[:, np.newaxis, :], dtype=\"int32\")\n",
    "            padding_mask = paddle.minimum(padding_mask, causal_mask)\n",
    "\n",
    "        # attn_mask: [batch_size, n_head, sequence_length, sequence_length]\n",
    "        attention_output_1 = self.attention_1(query=inputs, value=inputs, key=inputs, attn_mask=causal_mask)\n",
    "        out_1 = self.layernorm_1(inputs + attention_output_1)\n",
    "\n",
    "        attention_output_2 = self.attention_2(\n",
    "            query=out_1,\n",
    "            value=encoder_outputs,\n",
    "            key=encoder_outputs,\n",
    "            attn_mask=padding_mask,\n",
    "        )\n",
    "\n",
    "        out_2 = self.layernorm_2(out_1 + attention_output_2)\n",
    "\n",
    "        proj_output = self.dense_proj(out_2)\n",
    "        return self.layernorm_3(out_2 + proj_output)\n",
    "\n",
    "    def get_causal_attention_mask(self, inputs):\n",
    "        input_shape = inputs.shape\n",
    "        batch_size, sequence_length = input_shape[0], input_shape[1]\n",
    "        i = paddle.arange(sequence_length)[:, np.newaxis]\n",
    "        j = paddle.arange(sequence_length)\n",
    "        mask = paddle.cast(i >= j, dtype=\"int32\") #[sequence_length, sequence_length]\n",
    "        mask = paddle.reshape(mask, (1,1, input_shape[1], input_shape[1])) #[1, equence_length, sequence_length]\n",
    "        mult = paddle.concat(\n",
    "            [paddle.to_tensor(64,dtype='int32'), paddle.to_tensor([1,1, 1], dtype=\"int32\")],\n",
    "            axis=0,) #[batch_size,1,1]\n",
    "        return paddle.tile(mask, mult) #[batch_size, equence_length, sequence_length]\n",
    "\n",
    "# decoder=TransformerDecoder(embed_dim, latent_dim, num_heads)\n",
    "# print(decoder)\n",
    "\n",
    "# inputs=paddle.rand([64,20,256])\n",
    "# enout=paddle.rand([64,20,256])\n",
    "\n",
    "# out=decoder(inputs,enout)\n",
    "# print(\"out.shape:\",out.shape)"
   ]
  },
  {
   "cell_type": "markdown",
   "metadata": {},
   "source": [
    "## 4.4 搭建Transformer模型"
   ]
  },
  {
   "cell_type": "code",
   "execution_count": 27,
   "metadata": {
    "execution": {
     "iopub.execute_input": "2022-10-31T12:31:59.257265Z",
     "iopub.status.busy": "2022-10-31T12:31:59.256905Z",
     "iopub.status.idle": "2022-10-31T12:32:00.339121Z",
     "shell.execute_reply": "2022-10-31T12:32:00.338239Z",
     "shell.execute_reply.started": "2022-10-31T12:31:59.257238Z"
    },
    "scrolled": true
   },
   "outputs": [
    {
     "name": "stderr",
     "output_type": "stream",
     "text": [
      "W1031 20:31:59.264416 14770 gpu_resources.cc:61] Please NOTE: device: 0, GPU Compute Capability: 7.0, Driver API Version: 11.2, Runtime API Version: 11.2\n",
      "W1031 20:31:59.268676 14770 gpu_resources.cc:91] device: 0, cuDNN Version: 8.2.\n"
     ]
    },
    {
     "name": "stdout",
     "output_type": "stream",
     "text": [
      "out.shape: [64, 20, 15000]\n",
      "-------------------------------------------------------------------------------------------\n",
      "    Layer (type)               Input Shape               Output Shape         Param #    \n",
      "===========================================================================================\n",
      "     Embedding-1                [[64, 20]]              [64, 20, 256]        3,840,000   \n",
      "     Embedding-2                  [[20]]                  [20, 256]            5,120     \n",
      "PositionalEmbedding-1           [[64, 20]]              [64, 20, 256]            0       \n",
      "      Linear-1               [[64, 20, 256]]            [64, 20, 256]         65,792     \n",
      "      Linear-2               [[64, 20, 256]]            [64, 20, 256]         65,792     \n",
      "      Linear-3               [[64, 20, 256]]            [64, 20, 256]         65,792     \n",
      "      Linear-4               [[64, 20, 256]]            [64, 20, 256]         65,792     \n",
      "MultiHeadAttention-1                []                  [64, 20, 256]            0       \n",
      "     LayerNorm-1             [[64, 20, 256]]            [64, 20, 256]           512      \n",
      "      Linear-5               [[64, 20, 256]]            [64, 20, 2048]        526,336    \n",
      "       ReLU-1                [[64, 20, 2048]]           [64, 20, 2048]           0       \n",
      "      Linear-6               [[64, 20, 2048]]           [64, 20, 256]         524,544    \n",
      "     LayerNorm-2             [[64, 20, 256]]            [64, 20, 256]           512      \n",
      "TransformerEncoder-1         [[64, 20, 256]]            [64, 20, 256]            0       \n",
      "     Embedding-3                [[64, 20]]              [64, 20, 256]        3,840,000   \n",
      "     Embedding-4                  [[20]]                  [20, 256]            5,120     \n",
      "PositionalEmbedding-2           [[64, 20]]              [64, 20, 256]            0       \n",
      "      Linear-7               [[64, 20, 256]]            [64, 20, 256]         65,792     \n",
      "      Linear-8               [[64, 20, 256]]            [64, 20, 256]         65,792     \n",
      "      Linear-9               [[64, 20, 256]]            [64, 20, 256]         65,792     \n",
      "      Linear-10              [[64, 20, 256]]            [64, 20, 256]         65,792     \n",
      "MultiHeadAttention-2                []                  [64, 20, 256]            0       \n",
      "     LayerNorm-3             [[64, 20, 256]]            [64, 20, 256]           512      \n",
      "      Linear-11              [[64, 20, 256]]            [64, 20, 256]         65,792     \n",
      "      Linear-12              [[64, 20, 256]]            [64, 20, 256]         65,792     \n",
      "      Linear-13              [[64, 20, 256]]            [64, 20, 256]         65,792     \n",
      "      Linear-14              [[64, 20, 256]]            [64, 20, 256]         65,792     \n",
      "MultiHeadAttention-3                []                  [64, 20, 256]            0       \n",
      "     LayerNorm-4             [[64, 20, 256]]            [64, 20, 256]           512      \n",
      "      Linear-15              [[64, 20, 256]]            [64, 20, 2048]        526,336    \n",
      "       ReLU-2                [[64, 20, 2048]]           [64, 20, 2048]           0       \n",
      "      Linear-16              [[64, 20, 2048]]           [64, 20, 256]         524,544    \n",
      "     LayerNorm-5             [[64, 20, 256]]            [64, 20, 256]           512      \n",
      "TransformerDecoder-1  [[64, 20, 256], [64, 20, 256]]    [64, 20, 256]            0       \n",
      "      Dropout-1              [[64, 20, 256]]            [64, 20, 256]            0       \n",
      "      Linear-17              [[64, 20, 256]]           [64, 20, 15000]       3,855,000   \n",
      "===========================================================================================\n",
      "Total params: 14,439,064\n",
      "Trainable params: 14,439,064\n",
      "Non-trainable params: 0\n",
      "-------------------------------------------------------------------------------------------\n",
      "Input size (MB): 0.01\n",
      "Forward/backward pass size (MB): 299.06\n",
      "Params size (MB): 55.08\n",
      "Estimated Total Size (MB): 354.15\n",
      "-------------------------------------------------------------------------------------------\n",
      "\n"
     ]
    },
    {
     "data": {
      "text/plain": [
       "{'total_params': 14439064, 'trainable_params': 14439064}"
      ]
     },
     "execution_count": 27,
     "metadata": {},
     "output_type": "execute_result"
    }
   ],
   "source": [
    "\n",
    "class Transformer(paddle.nn.Layer):\n",
    "    def __init__(self, embed_dim, latent_dim, num_heads,sequence_length, vocab_size):\n",
    "        super(Transformer, self).__init__()\n",
    "\n",
    "        self.ps1=PositionalEmbedding(sequence_length, vocab_size, embed_dim)\n",
    "        self.encoder=TransformerEncoder(embed_dim, latent_dim, num_heads)\n",
    "\n",
    "        self.ps2=PositionalEmbedding(sequence_length, vocab_size, embed_dim)\n",
    "        self.decoder=TransformerDecoder(embed_dim, latent_dim, num_heads) \n",
    "\n",
    "        self.drop=paddle.nn.Dropout(p=0.5)\n",
    "\n",
    "        self.lastLinear=paddle.nn.Linear(embed_dim,vocab_size)\n",
    "\n",
    "        self.softmax=paddle.nn.Softmax()\n",
    "\n",
    "    def forward(self,encoder_inputs,decoder_inputs):\n",
    "\n",
    "        # 编码器\n",
    "        encoder_emb=self.ps1(encoder_inputs)\n",
    "        encoder_outputs=self.encoder(encoder_emb)\n",
    "\n",
    "        # 解码器\n",
    "        deocder_emb=self.ps2(decoder_inputs)\n",
    "        decoder_outputs=self.decoder(deocder_emb,encoder_outputs)\n",
    "\n",
    "        # dropout\n",
    "        out=self.drop(decoder_outputs)\n",
    "\n",
    "        #最后输出\n",
    "        out=self.lastLinear(out)\n",
    "        #out=self.softmax(self.lastLinear(out))\n",
    "\n",
    "        return out\n",
    "\n",
    "trans=Transformer(embed_dim, latent_dim, num_heads,sequence_length, vocab_size)\n",
    "encoder_inputs=paddle.randint(0,15000,[64,20])\n",
    "decoder_inputs=paddle.randint(0,15000,[64,20])\n",
    "out=trans(encoder_inputs,decoder_inputs)\n",
    "print(\"out.shape:\",out.shape)\n",
    "\n",
    "paddle.summary(trans,input_size=[(64,20),(64,20)],dtypes='int32')"
   ]
  },
  {
   "cell_type": "markdown",
   "metadata": {},
   "source": [
    "# 5.模型训练与评估"
   ]
  },
  {
   "cell_type": "markdown",
   "metadata": {},
   "source": [
    "## 5.1 自定义loss函数"
   ]
  },
  {
   "cell_type": "code",
   "execution_count": 28,
   "metadata": {
    "execution": {
     "iopub.execute_input": "2022-10-31T12:32:00.340694Z",
     "iopub.status.busy": "2022-10-31T12:32:00.340315Z",
     "iopub.status.idle": "2022-10-31T12:32:00.346988Z",
     "shell.execute_reply": "2022-10-31T12:32:00.346189Z",
     "shell.execute_reply.started": "2022-10-31T12:32:00.340667Z"
    },
    "scrolled": true
   },
   "outputs": [],
   "source": [
    "class CrossEntropy(paddle.nn.Layer):\n",
    "    def __init__(self):\n",
    "        super(CrossEntropy,self).__init__()\n",
    "\n",
    "    def forward(self,pre,real,trg_mask):\n",
    "\n",
    "        # 返回的数据类型与pre一致，除了axis维度(未指定则为-1)，其他维度也与pre一致\n",
    "        # logits=pre,[batch_size,sequence_len,word_size],猜测会进行argmax操作，[batch_size,sequence_len,1]\n",
    "        # 默认的soft_label为False，lable=real,[bacth_size,sequence_len,1]\n",
    "        cost=paddle.nn.functional.softmax_with_cross_entropy(logits=pre,label=real)\n",
    "        \n",
    "        # 删除axis=2 shape上为1的维度\n",
    "        # 返回结果的形状应为 [batch_size,sequence_len]\n",
    "        cost=paddle.squeeze(cost,axis=[2])\n",
    "\n",
    "        # trg_mask 的形状[batch_size,suqence_len]\n",
    "        # * 这个星号应该是对应位置相乘，返回结果的形状 [bathc_szie,sequence_len]\n",
    "        masked_cost=cost*trg_mask\n",
    "\n",
    "        # paddle.mean 对应轴的对应位置求平均， 在这里返回结果为 [sequence_len]\n",
    "        # paddle.sum 求解方法与paddle.mean一致，最终返回的结果应为[1]\n",
    "        return paddle.sum(paddle.mean(masked_cost,axis=[0]))"
   ]
  },
  {
   "cell_type": "markdown",
   "metadata": {},
   "source": [
    "## 5.2 训练与验证"
   ]
  },
  {
   "cell_type": "code",
   "execution_count": 29,
   "metadata": {
    "execution": {
     "iopub.execute_input": "2022-10-31T12:32:00.348433Z",
     "iopub.status.busy": "2022-10-31T12:32:00.348097Z",
     "iopub.status.idle": "2022-10-31T12:37:18.379872Z",
     "shell.execute_reply": "2022-10-31T12:37:18.379034Z",
     "shell.execute_reply.started": "2022-10-31T12:32:00.348406Z"
    },
    "scrolled": true,
    "tags": []
   },
   "outputs": [
    {
     "name": "stdout",
     "output_type": "stream",
     "text": [
      "The loss value printed in the log is the current step, and the metric is the average value of previous steps.\n",
      "Epoch 1/10\n",
      "step  100/1301 - loss: 40.4366 - acc: 0.3845 - 23ms/step\n",
      "step  200/1301 - loss: 39.2942 - acc: 0.2620 - 23ms/step\n",
      "step  300/1301 - loss: 32.5688 - acc: 0.2163 - 23ms/step\n",
      "step  400/1301 - loss: 34.8820 - acc: 0.1962 - 22ms/step\n",
      "step  500/1301 - loss: 34.8768 - acc: 0.1872 - 22ms/step\n",
      "step  600/1301 - loss: 32.3677 - acc: 0.1819 - 22ms/step\n",
      "step  700/1301 - loss: 33.2725 - acc: 0.1793 - 22ms/step\n",
      "step  800/1301 - loss: 31.3508 - acc: 0.1780 - 22ms/step\n",
      "step  900/1301 - loss: 27.0325 - acc: 0.1779 - 22ms/step\n",
      "step 1000/1301 - loss: 27.5817 - acc: 0.1786 - 22ms/step\n",
      "step 1100/1301 - loss: 25.2771 - acc: 0.1797 - 22ms/step\n",
      "step 1200/1301 - loss: 27.1765 - acc: 0.1811 - 22ms/step\n",
      "step 1300/1301 - loss: 23.1802 - acc: 0.1829 - 22ms/step\n",
      "step 1301/1301 - loss: 25.7411 - acc: 0.1829 - 22ms/step\n",
      "Eval begin...\n",
      "step 100/278 - loss: 24.3538 - acc: 0.2119 - 15ms/step\n",
      "step 200/278 - loss: 21.8889 - acc: 0.2131 - 14ms/step\n",
      "step 278/278 - loss: 23.7629 - acc: 0.2132 - 14ms/step\n",
      "Eval samples: 17792\n",
      "Epoch 2/10\n",
      "step  100/1301 - loss: 22.2367 - acc: 0.2125 - 21ms/step\n",
      "step  200/1301 - loss: 24.1568 - acc: 0.2144 - 21ms/step\n",
      "step  300/1301 - loss: 19.1737 - acc: 0.2171 - 21ms/step\n",
      "step  400/1301 - loss: 22.2514 - acc: 0.2195 - 21ms/step\n",
      "step  500/1301 - loss: 22.7147 - acc: 0.2210 - 21ms/step\n",
      "step  600/1301 - loss: 18.4660 - acc: 0.2230 - 21ms/step\n",
      "step  700/1301 - loss: 16.4054 - acc: 0.2248 - 21ms/step\n",
      "step  800/1301 - loss: 21.3699 - acc: 0.2265 - 21ms/step\n",
      "step  900/1301 - loss: 20.7213 - acc: 0.2283 - 21ms/step\n",
      "step 1000/1301 - loss: 18.2302 - acc: 0.2298 - 21ms/step\n",
      "step 1100/1301 - loss: 20.1995 - acc: 0.2313 - 21ms/step\n",
      "step 1200/1301 - loss: 19.2914 - acc: 0.2328 - 21ms/step\n",
      "step 1300/1301 - loss: 19.6664 - acc: 0.2343 - 21ms/step\n",
      "step 1301/1301 - loss: 14.7748 - acc: 0.2343 - 21ms/step\n",
      "Eval begin...\n",
      "step 100/278 - loss: 14.1576 - acc: 0.2592 - 14ms/step\n",
      "step 200/278 - loss: 19.4800 - acc: 0.2595 - 14ms/step\n",
      "step 278/278 - loss: 15.0058 - acc: 0.2595 - 14ms/step\n",
      "Eval samples: 17792\n",
      "Epoch 3/10\n",
      "step  100/1301 - loss: 15.3666 - acc: 0.2613 - 22ms/step\n",
      "step  200/1301 - loss: 15.8147 - acc: 0.2625 - 21ms/step\n",
      "step  300/1301 - loss: 14.7648 - acc: 0.2624 - 21ms/step\n",
      "step  400/1301 - loss: 13.9978 - acc: 0.2626 - 22ms/step\n",
      "step  500/1301 - loss: 15.9673 - acc: 0.2633 - 22ms/step\n",
      "step  600/1301 - loss: 14.1900 - acc: 0.2638 - 22ms/step\n",
      "step  700/1301 - loss: 15.7537 - acc: 0.2647 - 22ms/step\n",
      "step  800/1301 - loss: 20.1945 - acc: 0.2653 - 22ms/step\n",
      "step  900/1301 - loss: 13.6963 - acc: 0.2658 - 22ms/step\n",
      "step 1000/1301 - loss: 15.3768 - acc: 0.2665 - 22ms/step\n",
      "step 1100/1301 - loss: 14.8905 - acc: 0.2669 - 22ms/step\n",
      "step 1200/1301 - loss: 14.5110 - acc: 0.2675 - 22ms/step\n",
      "step 1300/1301 - loss: 13.8224 - acc: 0.2681 - 22ms/step\n",
      "step 1301/1301 - loss: 13.8717 - acc: 0.2680 - 22ms/step\n",
      "Eval begin...\n",
      "step 100/278 - loss: 10.9615 - acc: 0.2750 - 14ms/step\n",
      "step 200/278 - loss: 13.0317 - acc: 0.2752 - 14ms/step\n",
      "step 278/278 - loss: 12.9301 - acc: 0.2748 - 14ms/step\n",
      "Eval samples: 17792\n",
      "Epoch 4/10\n",
      "step  100/1301 - loss: 14.2242 - acc: 0.2891 - 22ms/step\n",
      "step  200/1301 - loss: 10.8672 - acc: 0.2872 - 21ms/step\n",
      "step  300/1301 - loss: 9.0522 - acc: 0.2866 - 21ms/step\n",
      "step  400/1301 - loss: 13.2093 - acc: 0.2861 - 21ms/step\n",
      "step  500/1301 - loss: 12.1757 - acc: 0.2856 - 21ms/step\n",
      "step  600/1301 - loss: 11.8932 - acc: 0.2856 - 21ms/step\n",
      "step  700/1301 - loss: 11.2188 - acc: 0.2858 - 21ms/step\n",
      "step  800/1301 - loss: 13.3494 - acc: 0.2858 - 21ms/step\n",
      "step  900/1301 - loss: 12.9725 - acc: 0.2860 - 22ms/step\n",
      "step 1000/1301 - loss: 11.2486 - acc: 0.2857 - 22ms/step\n",
      "step 1100/1301 - loss: 12.7134 - acc: 0.2857 - 22ms/step\n",
      "step 1200/1301 - loss: 14.6771 - acc: 0.2857 - 22ms/step\n",
      "step 1300/1301 - loss: 10.9517 - acc: 0.2858 - 22ms/step\n",
      "step 1301/1301 - loss: 13.5238 - acc: 0.2858 - 22ms/step\n",
      "Eval begin...\n",
      "step 100/278 - loss: 10.7665 - acc: 0.2853 - 14ms/step\n",
      "step 200/278 - loss: 12.6577 - acc: 0.2850 - 14ms/step\n",
      "step 278/278 - loss: 14.8482 - acc: 0.2846 - 14ms/step\n",
      "Eval samples: 17792\n",
      "Epoch 5/10\n",
      "step  100/1301 - loss: 9.4242 - acc: 0.3010 - 21ms/step\n",
      "step  200/1301 - loss: 9.1809 - acc: 0.3005 - 21ms/step\n",
      "step  300/1301 - loss: 11.7698 - acc: 0.2997 - 21ms/step\n",
      "step  400/1301 - loss: 12.3419 - acc: 0.2992 - 21ms/step\n",
      "step  500/1301 - loss: 9.6138 - acc: 0.2989 - 21ms/step\n",
      "step  600/1301 - loss: 9.0745 - acc: 0.2984 - 21ms/step\n",
      "step  700/1301 - loss: 11.4079 - acc: 0.2981 - 21ms/step\n",
      "step  800/1301 - loss: 10.0851 - acc: 0.2983 - 21ms/step\n",
      "step  900/1301 - loss: 10.4105 - acc: 0.2982 - 21ms/step\n",
      "step 1000/1301 - loss: 10.3203 - acc: 0.2981 - 21ms/step\n",
      "step 1100/1301 - loss: 11.6715 - acc: 0.2978 - 21ms/step\n",
      "step 1200/1301 - loss: 11.5092 - acc: 0.2978 - 21ms/step\n",
      "step 1300/1301 - loss: 14.2915 - acc: 0.2977 - 21ms/step\n",
      "step 1301/1301 - loss: 12.3799 - acc: 0.2977 - 21ms/step\n",
      "Eval begin...\n",
      "step 100/278 - loss: 15.2363 - acc: 0.2906 - 13ms/step\n",
      "step 200/278 - loss: 13.4631 - acc: 0.2907 - 13ms/step\n",
      "step 278/278 - loss: 12.3178 - acc: 0.2899 - 13ms/step\n",
      "Eval samples: 17792\n",
      "Epoch 6/10\n",
      "step  100/1301 - loss: 8.6921 - acc: 0.3092 - 23ms/step\n",
      "step  200/1301 - loss: 9.2587 - acc: 0.3093 - 23ms/step\n",
      "step  300/1301 - loss: 8.9347 - acc: 0.3094 - 23ms/step\n",
      "step  400/1301 - loss: 7.3473 - acc: 0.3092 - 22ms/step\n",
      "step  500/1301 - loss: 9.7089 - acc: 0.3084 - 22ms/step\n",
      "step  600/1301 - loss: 11.2116 - acc: 0.3078 - 22ms/step\n",
      "step  700/1301 - loss: 10.8913 - acc: 0.3076 - 22ms/step\n",
      "step  800/1301 - loss: 8.0579 - acc: 0.3075 - 22ms/step\n",
      "step  900/1301 - loss: 9.1444 - acc: 0.3073 - 22ms/step\n",
      "step 1000/1301 - loss: 10.6446 - acc: 0.3071 - 22ms/step\n",
      "step 1100/1301 - loss: 10.0966 - acc: 0.3066 - 22ms/step\n",
      "step 1200/1301 - loss: 8.8287 - acc: 0.3066 - 22ms/step\n",
      "step 1300/1301 - loss: 9.5333 - acc: 0.3065 - 22ms/step\n",
      "step 1301/1301 - loss: 10.7477 - acc: 0.3065 - 22ms/step\n",
      "Eval begin...\n",
      "step 100/278 - loss: 13.2293 - acc: 0.2913 - 14ms/step\n",
      "step 200/278 - loss: 14.5510 - acc: 0.2920 - 13ms/step\n",
      "step 278/278 - loss: 10.6362 - acc: 0.2923 - 14ms/step\n",
      "Eval samples: 17792\n",
      "Epoch 7/10\n",
      "step  100/1301 - loss: 7.6608 - acc: 0.3171 - 23ms/step\n",
      "step  200/1301 - loss: 8.1725 - acc: 0.3174 - 22ms/step\n",
      "step  300/1301 - loss: 9.2722 - acc: 0.3171 - 22ms/step\n",
      "step  400/1301 - loss: 6.8687 - acc: 0.3161 - 22ms/step\n",
      "step  500/1301 - loss: 8.9685 - acc: 0.3160 - 22ms/step\n",
      "step  600/1301 - loss: 8.6824 - acc: 0.3155 - 22ms/step\n",
      "step  700/1301 - loss: 7.3168 - acc: 0.3152 - 22ms/step\n",
      "step  800/1301 - loss: 9.0823 - acc: 0.3150 - 22ms/step\n",
      "step  900/1301 - loss: 9.0764 - acc: 0.3146 - 22ms/step\n",
      "step 1000/1301 - loss: 7.7568 - acc: 0.3141 - 22ms/step\n",
      "step 1100/1301 - loss: 7.6293 - acc: 0.3139 - 22ms/step\n",
      "step 1200/1301 - loss: 8.4329 - acc: 0.3138 - 22ms/step\n",
      "step 1300/1301 - loss: 9.5013 - acc: 0.3135 - 22ms/step\n",
      "step 1301/1301 - loss: 8.0499 - acc: 0.3135 - 22ms/step\n",
      "Eval begin...\n",
      "step 100/278 - loss: 10.7672 - acc: 0.2917 - 14ms/step\n",
      "step 200/278 - loss: 10.8719 - acc: 0.2930 - 14ms/step\n",
      "step 278/278 - loss: 12.1979 - acc: 0.2938 - 14ms/step\n",
      "Eval samples: 17792\n",
      "Epoch 8/10\n",
      "step  100/1301 - loss: 6.7655 - acc: 0.3251 - 23ms/step\n",
      "step  200/1301 - loss: 6.8791 - acc: 0.3242 - 23ms/step\n",
      "step  300/1301 - loss: 8.0587 - acc: 0.3236 - 23ms/step\n",
      "step  400/1301 - loss: 6.8393 - acc: 0.3227 - 22ms/step\n",
      "step  500/1301 - loss: 7.8857 - acc: 0.3221 - 22ms/step\n",
      "step  600/1301 - loss: 9.2890 - acc: 0.3211 - 22ms/step\n",
      "step  700/1301 - loss: 7.2603 - acc: 0.3208 - 22ms/step\n",
      "step  800/1301 - loss: 7.6015 - acc: 0.3205 - 22ms/step\n",
      "step  900/1301 - loss: 8.1938 - acc: 0.3206 - 22ms/step\n",
      "step 1000/1301 - loss: 5.4908 - acc: 0.3205 - 22ms/step\n",
      "step 1100/1301 - loss: 7.8225 - acc: 0.3203 - 22ms/step\n",
      "step 1200/1301 - loss: 7.5318 - acc: 0.3198 - 21ms/step\n",
      "step 1300/1301 - loss: 8.6009 - acc: 0.3195 - 21ms/step\n",
      "step 1301/1301 - loss: 7.5385 - acc: 0.3195 - 21ms/step\n",
      "Eval begin...\n",
      "step 100/278 - loss: 8.8426 - acc: 0.2959 - 14ms/step\n",
      "step 200/278 - loss: 9.0168 - acc: 0.2964 - 14ms/step\n",
      "step 278/278 - loss: 11.1887 - acc: 0.2964 - 14ms/step\n",
      "Eval samples: 17792\n",
      "Epoch 9/10\n",
      "step  100/1301 - loss: 6.8173 - acc: 0.3304 - 21ms/step\n",
      "step  200/1301 - loss: 6.6723 - acc: 0.3296 - 22ms/step\n",
      "step  300/1301 - loss: 7.7766 - acc: 0.3293 - 22ms/step\n",
      "step  400/1301 - loss: 7.3792 - acc: 0.3283 - 21ms/step\n",
      "step  500/1301 - loss: 7.1910 - acc: 0.3285 - 21ms/step\n",
      "step  600/1301 - loss: 7.0693 - acc: 0.3279 - 21ms/step\n",
      "step  700/1301 - loss: 6.5716 - acc: 0.3275 - 21ms/step\n",
      "step  800/1301 - loss: 7.4927 - acc: 0.3270 - 21ms/step\n",
      "step  900/1301 - loss: 6.5342 - acc: 0.3265 - 21ms/step\n",
      "step 1000/1301 - loss: 6.8037 - acc: 0.3260 - 21ms/step\n",
      "step 1100/1301 - loss: 6.9548 - acc: 0.3255 - 21ms/step\n",
      "step 1200/1301 - loss: 6.3638 - acc: 0.3254 - 21ms/step\n",
      "step 1300/1301 - loss: 8.1850 - acc: 0.3252 - 21ms/step\n",
      "step 1301/1301 - loss: 7.7692 - acc: 0.3252 - 21ms/step\n",
      "Eval begin...\n",
      "step 100/278 - loss: 13.4181 - acc: 0.2964 - 14ms/step\n",
      "step 200/278 - loss: 14.6083 - acc: 0.2957 - 14ms/step\n",
      "step 278/278 - loss: 11.6781 - acc: 0.2958 - 14ms/step\n",
      "Eval samples: 17792\n",
      "Epoch 10/10\n",
      "step  100/1301 - loss: 6.2161 - acc: 0.3356 - 22ms/step\n",
      "step  200/1301 - loss: 5.3792 - acc: 0.3353 - 22ms/step\n",
      "step  300/1301 - loss: 5.3346 - acc: 0.3344 - 22ms/step\n",
      "step  400/1301 - loss: 5.4607 - acc: 0.3337 - 22ms/step\n",
      "step  500/1301 - loss: 6.6512 - acc: 0.3331 - 22ms/step\n",
      "step  600/1301 - loss: 6.9565 - acc: 0.3329 - 22ms/step\n",
      "step  700/1301 - loss: 7.4345 - acc: 0.3323 - 22ms/step\n",
      "step  800/1301 - loss: 6.6149 - acc: 0.3317 - 22ms/step\n",
      "step  900/1301 - loss: 7.0071 - acc: 0.3312 - 22ms/step\n",
      "step 1000/1301 - loss: 8.0733 - acc: 0.3309 - 22ms/step\n",
      "step 1100/1301 - loss: 5.9107 - acc: 0.3305 - 22ms/step\n",
      "step 1200/1301 - loss: 6.5713 - acc: 0.3302 - 22ms/step\n",
      "step 1300/1301 - loss: 6.3177 - acc: 0.3298 - 22ms/step\n",
      "step 1301/1301 - loss: 7.4745 - acc: 0.3299 - 22ms/step\n",
      "Eval begin...\n",
      "step 100/278 - loss: 10.3189 - acc: 0.2976 - 14ms/step\n",
      "step 200/278 - loss: 12.2573 - acc: 0.2969 - 14ms/step\n",
      "step 278/278 - loss: 10.1953 - acc: 0.2973 - 14ms/step\n",
      "Eval samples: 17792\n"
     ]
    }
   ],
   "source": [
    "epochs = 10   \n",
    "trans=Transformer(embed_dim, latent_dim, num_heads,sequence_length, vocab_size)\n",
    "model=paddle.Model(trans)\n",
    "\n",
    "\n",
    "model.prepare(optimizer=paddle.optimizer.Adam(learning_rate=0.001,parameters=model.parameters()),\n",
    "                loss=CrossEntropy(), \n",
    "                metrics=paddle.metric.Accuracy())\n",
    "\n",
    "model.fit(train_data=train_loader, \n",
    "            epochs=epochs,\n",
    "             eval_data= val_loader,\n",
    "             verbose =2,\n",
    "             log_freq =100,\n",
    "             callbacks=[paddle.callbacks.VisualDL('./log')])"
   ]
  },
  {
   "cell_type": "markdown",
   "metadata": {},
   "source": [
    "10个epoch下验证集的loss与Accuracy曲线图：\n",
    "\n",
    "![](https://ai-studio-static-online.cdn.bcebos.com/2d3e2fb0fb0c46c7999da12ca96af25e55d5ddad045b4f85b3419dad0774af87)\n",
    "\n",
    "![](https://ai-studio-static-online.cdn.bcebos.com/4b9492bedc8b47a58af3474236f2c70d96e6a7e219774e53aeae719759efa559)\n",
    "\n",
    "\n",
    "\n"
   ]
  },
  {
   "cell_type": "markdown",
   "metadata": {},
   "source": [
    "# 6. 结果预测"
   ]
  },
  {
   "cell_type": "code",
   "execution_count": 30,
   "metadata": {
    "collapsed": false,
    "execution": {
     "iopub.execute_input": "2022-10-31T12:37:18.381581Z",
     "iopub.status.busy": "2022-10-31T12:37:18.381016Z",
     "iopub.status.idle": "2022-10-31T12:37:18.387010Z",
     "shell.execute_reply": "2022-10-31T12:37:18.386135Z",
     "shell.execute_reply.started": "2022-10-31T12:37:18.381552Z"
    },
    "jupyter": {
     "outputs_hidden": false
    },
    "scrolled": true,
    "tags": []
   },
   "outputs": [],
   "source": [
    "def evalute(eng):\n",
    "    \n",
    "    encoder_input=paddle.unsqueeze(eng,axis=0)\n",
    "    decoded_sentence = \"[start]\"\n",
    "        \n",
    "    for i in range(sequence_length):\n",
    "        decoder_input=paddle.to_tensor(build_tensor([decoded_sentence],spa2id_dict,sequence_length))\n",
    "        pre=trans(encoder_input,decoder_input)\n",
    "        sampled_token_index = np.argmax(pre[0, i, :])\n",
    "        sampled_token = id2spa_dict.get(sampled_token_index)\n",
    "        decoded_sentence += \" \" + sampled_token\n",
    "\n",
    "        if sampled_token == \"[end]\":\n",
    "            break\n",
    "\n",
    "    return decoded_sentence"
   ]
  },
  {
   "cell_type": "code",
   "execution_count": 31,
   "metadata": {
    "collapsed": false,
    "execution": {
     "iopub.execute_input": "2022-10-31T12:37:18.388730Z",
     "iopub.status.busy": "2022-10-31T12:37:18.388101Z",
     "iopub.status.idle": "2022-10-31T12:37:18.966309Z",
     "shell.execute_reply": "2022-10-31T12:37:18.965394Z",
     "shell.execute_reply.started": "2022-10-31T12:37:18.388692Z"
    },
    "jupyter": {
     "outputs_hidden": false
    },
    "scrolled": true,
    "tags": []
   },
   "outputs": [],
   "source": [
    "def translate():\n",
    "    with open('result.txt','w+') as re:\n",
    "        #for i in tqdm(range(len(test_eng_tensor))):\n",
    "        for i in range(5):    \n",
    "            result=evalute(paddle.to_tensor(test_eng_tensor[i]))\n",
    "            re.write(result+'\\n')\n",
    "            #print(result)\n",
    "translate()"
   ]
  },
  {
   "cell_type": "code",
   "execution_count": 32,
   "metadata": {
    "collapsed": false,
    "execution": {
     "iopub.execute_input": "2022-10-31T12:37:18.968142Z",
     "iopub.status.busy": "2022-10-31T12:37:18.967569Z",
     "iopub.status.idle": "2022-10-31T12:37:19.009765Z",
     "shell.execute_reply": "2022-10-31T12:37:19.008962Z",
     "shell.execute_reply.started": "2022-10-31T12:37:18.968113Z"
    },
    "jupyter": {
     "outputs_hidden": false
    },
    "scrolled": true,
    "tags": []
   },
   "outputs": [
    {
     "name": "stdout",
     "output_type": "stream",
     "text": [
      "英语:  It's been more than a month.\n",
      "真实的西班牙语： [start] ha pasado más de un mes [end]\n",
      "预测的西班牙语： [start] ha sido más de un mes [end]\n",
      "\n",
      "英语:  My parents picked me up from school.\n",
      "真实的西班牙语： [start] mis padres me recogieron de la escuela [end]\n",
      "预测的西班牙语： [start] mis padres me <unk> del colegio [end]\n",
      "\n",
      "英语:  If I don't fail, I will get my driving license before New Year.\n",
      "真实的西班牙语： [start] si no suspendo conseguiré mi carné de conducir antes de año nuevo [end]\n",
      "预测的西班牙语： [start] si no <unk> <unk> mi licencia de conducir hasta mi nuevo año [end]\n",
      "\n",
      "英语:  Tom said he's Canadian.\n",
      "真实的西班牙语： [start] tom dijo que es canadiense [end]\n",
      "预测的西班牙语： [start] tom dijo que es canadiense [end]\n",
      "\n",
      "英语:  They had fun with us.\n",
      "真实的西班牙语： [start] ellas se entretuvieron con nosotras [end]\n",
      "预测的西班牙语： [start] ellos se <unk> con nosotros [end]\n",
      "\n"
     ]
    }
   ],
   "source": [
    "with open('result.txt','r') as re:\n",
    "    pre=re.readlines()\n",
    "\n",
    "for i in range(5):\n",
    "    print('英语: ',test_eng_texts[i])\n",
    "    print('真实的西班牙语：',test_spa_texts_pre[i])\n",
    "    print('预测的西班牙语：',pre[i])"
   ]
  }
 ],
 "metadata": {
  "kernelspec": {
   "display_name": "Python 3",
   "language": "python",
   "name": "py35-paddle1.2.0"
  },
  "language_info": {
   "codemirror_mode": {
    "name": "ipython",
    "version": 3
   },
   "file_extension": ".py",
   "mimetype": "text/x-python",
   "name": "python",
   "nbconvert_exporter": "python",
   "pygments_lexer": "ipython3",
   "version": "3.7.4"
  }
 },
 "nbformat": 4,
 "nbformat_minor": 4
}
