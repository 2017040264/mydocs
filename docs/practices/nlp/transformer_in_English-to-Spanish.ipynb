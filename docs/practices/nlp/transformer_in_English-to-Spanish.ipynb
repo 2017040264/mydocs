{
 "cells": [
  {
   "attachments": {},
   "cell_type": "markdown",
   "metadata": {},
   "source": [
    "#  <center>基于Transformer实现英语到西班牙语的翻译任务</center>\n",
    "\n",
    "\n",
    "* 作者信息:\n",
    "    * Github：[2017040264](https://github.com/2017040264)\n",
    "    * AiStudio：[月光下的独孤亮](https://aistudio.baidu.com/aistudio/personalcenter/thirdview/689988)\n",
    "    * 摘要：基于Transformer实现英语到西班牙语的机器翻译任务\n",
    "* 更新日期：2022.12.19\n",
    "\n",
    "\n",
    "\n"
   ]
  },
  {
   "cell_type": "markdown",
   "metadata": {},
   "source": [
    "# 1.项目背景\n",
    "在本项目中，我们将构建一个Sequence-to-sequence的 Transformer 模型，并在英语到西班牙语的机器翻译任务中对其进行训练。\n",
    "* Sequence-to-sequence:\n",
    "机器翻译是序列转换模型的一个核心问题，其输入和输出都是长度可变的序列。为了处理这种类型的输入和输出，研究人员设计出一个包含两个主要组件的架构：\n",
    "    * 第一个组件是一个编码器（encoder）：它接受一个长度可变的序列作为输入，并将其转换为具有固定形状的编码状态。\n",
    "    * 第二个组件是解码器（decoder）：它将固定形状的编码状态映射到长度可变的序列。\n",
    "\n",
    "这种架构被称为编码器-解码器（encoder-decoder）架构，如下图所示：\n",
    "\n",
    "![](https://ai-studio-static-online.cdn.bcebos.com/a7cadcd296924fec8f50146faa7d0c1db5c39f0712474be6a3dfe1b44d3270c9)\n",
    "\n",
    "* Transformer:\n",
    "Transformer是Sequence-to-sequence架构的一种实例，其诞生于2017年的《Attention is all you need》,诞生之初该模型就展示出了强大的魅力，刷新了NLP领域的大部分SOTA。现如今在Transformer在CV领域应用也得到了十分广泛的应用。Transformer的框架图如下：\n",
    "\n",
    "![](https://ai-studio-static-online.cdn.bcebos.com/ca0931928b4a41af97a318f66957767c9ffda9b248634f4182cfda80e6a3923a)\n",
    "\n",
    "\n",
    "\n",
    "* 机器翻译：\n",
    "机器翻译（machine translation）指的是将序列从一种语言自动翻译成另一种语言。事实上，这个研究领域可以追溯到数字计算机发明后不久的20世纪40年代， 特别是在第二次世界大战中使用计算机破解语言编码。几十年来，在使用神经网络进行端到端学习的兴起之前，统计学方法在这一领域一直占据主导地位。因为统计机器翻译（statisticalmachine translation）涉及了翻译模型和语言模型等组成部分的统计分析，因此基于神经网络的方法通常被称为 `神经机器翻译（neuralmachine translation）`，用于将两种翻译模型区分开来。\n",
    "\n",
    "\n"
   ]
  },
  {
   "cell_type": "markdown",
   "metadata": {},
   "source": [
    "# 2.环境设置\n",
    "\n",
    "我们需要的依赖主要有：\n",
    "* paddle系列：组装数据集、搭建模型框架\n",
    "* padldenlp系列：百度提供的数据处理框架\n",
    "* numpy:  NumPy (Numerical Python) 是 Python 语言的一个扩展程序库，支持大量的维度数组与矩阵运算，此外也针对数组运算提供大量的数学函数库\n",
    "* collections: 主要使用Counter，快速构建语料库字典\n",
    "* string: 字符串库，我们要使用标点符号集合\n",
    "* functools：主要使用partial，用于数据集的构建工作\n",
    "* random: 随机函数库\n",
    "* matplotlib.pyplot：画图使用"
   ]
  },
  {
   "cell_type": "code",
   "execution_count": 1,
   "metadata": {
    "collapsed": false,
    "execution": {
     "iopub.execute_input": "2022-12-15T06:13:45.718950Z",
     "iopub.status.busy": "2022-12-15T06:13:45.718531Z",
     "iopub.status.idle": "2022-12-15T06:13:49.081058Z",
     "shell.execute_reply": "2022-12-15T06:13:49.080361Z",
     "shell.execute_reply.started": "2022-12-15T06:13:45.718927Z"
    },
    "jupyter": {
     "outputs_hidden": false
    },
    "scrolled": true,
    "tags": []
   },
   "outputs": [
    {
     "name": "stdout",
     "output_type": "stream",
     "text": [
      "2.4.0\r\n"
     ]
    }
   ],
   "source": [
    "import paddle\n",
    "import paddlenlp\n",
    "from paddle.io import Dataset\n",
    "from paddlenlp.data import Vocab\n",
    "from paddlenlp.metrics import BLEU\n",
    "import numpy as np\n",
    "import string\n",
    "import random\n",
    "import matplotlib.pyplot as plt\n",
    "from functools import partial\n",
    "from collections import Counter\n",
    "\n",
    "print(paddle.__version__)"
   ]
  },
  {
   "cell_type": "markdown",
   "metadata": {},
   "source": [
    "# 3.数据集\n",
    "使用Anki提供的`English-to-Spanish`翻译数据集,下载地址为：[English-to-Spanish数据集](http://storage.googleapis.com/download.tensorflow.org/data/spa-eng.zip)。该数据集总共包含118964条（English,Spanish）语句对。示例如下：\n",
    "\n",
    "\n",
    "| English | Spanish | \n",
    "| -------- | -------- |\n",
    "| Go on home.    |Vete a casa.  | \n",
    "| I can jump.   |Puedo saltar.|\n",
    "\n",
    "\n"
   ]
  },
  {
   "cell_type": "markdown",
   "metadata": {},
   "source": [
    "## 3.1 加载数据集\n",
    "数据集的加载有两种方式：\n",
    "\n",
    "\n"
   ]
  },
  {
   "cell_type": "markdown",
   "metadata": {},
   "source": [
    "\n",
    "1. 通过链接自行下载，该方法可能存在下载速度慢等不便利的情况，不推荐。"
   ]
  },
  {
   "cell_type": "code",
   "execution_count": 2,
   "metadata": {
    "execution": {
     "iopub.execute_input": "2022-12-15T06:13:49.082776Z",
     "iopub.status.busy": "2022-12-15T06:13:49.082042Z",
     "iopub.status.idle": "2022-12-15T06:13:49.085556Z",
     "shell.execute_reply": "2022-12-15T06:13:49.084966Z",
     "shell.execute_reply.started": "2022-12-15T06:13:49.082748Z"
    },
    "scrolled": true
   },
   "outputs": [],
   "source": [
    "# 自行下载数据集\n",
    "\n",
    "# from paddle.utils.download import get_path_from_url\n",
    "# URL = \"http://storage.googleapis.com/download.tensorflow.org/data/spa-eng.zip\"\n",
    "# get_path_from_url(URL, \"./data\")\n",
    "# text_file='data/spa-eng/spa.txt' # 数据集路径"
   ]
  },
  {
   "cell_type": "markdown",
   "metadata": {},
   "source": [
    "2. 我们已经下载好并上传至AiStudio平台，使用方便，强烈推荐。我们的数据集地址：[【NLP】English-Spanish](https://aistudio.baidu.com/aistudio/datasetdetail/173968/0)"
   ]
  },
  {
   "cell_type": "code",
   "execution_count": 3,
   "metadata": {
    "execution": {
     "iopub.execute_input": "2022-12-15T06:13:49.086728Z",
     "iopub.status.busy": "2022-12-15T06:13:49.086367Z",
     "iopub.status.idle": "2022-12-15T06:13:49.090146Z",
     "shell.execute_reply": "2022-12-15T06:13:49.089482Z",
     "shell.execute_reply.started": "2022-12-15T06:13:49.086706Z"
    },
    "scrolled": true,
    "tags": []
   },
   "outputs": [],
   "source": [
    "# 使用我们提供的数据集\n",
    "\n",
    "text_file='data/data173968/spa.txt' # 数据集路径"
   ]
  },
  {
   "cell_type": "markdown",
   "metadata": {},
   "source": [
    "## 3.2 添加[start] token与 [end] token\n"
   ]
  },
  {
   "cell_type": "markdown",
   "metadata": {},
   "source": [
    "* 为西班牙语添加`[start]`与 `[end]`\n",
    "* `[start]`表示西班牙语的开始\n",
    "* `[end]`表示西班牙语的结束"
   ]
  },
  {
   "cell_type": "code",
   "execution_count": 4,
   "metadata": {
    "execution": {
     "iopub.execute_input": "2022-12-15T06:13:49.091167Z",
     "iopub.status.busy": "2022-12-15T06:13:49.090933Z",
     "iopub.status.idle": "2022-12-15T06:13:49.482155Z",
     "shell.execute_reply": "2022-12-15T06:13:49.481227Z",
     "shell.execute_reply.started": "2022-12-15T06:13:49.091148Z"
    },
    "scrolled": true,
    "tags": []
   },
   "outputs": [],
   "source": [
    "with open(text_file) as f:\n",
    "    lines = f.read().split(\"\\n\")[:-1]\n",
    "text_pairs = []\n",
    "for line in lines:\n",
    "    eng, spa = line.split(\"\\t\")\n",
    "    spa = \"[start] \" + spa + \" [end]\"\n",
    "    text_pairs.append((eng, spa))"
   ]
  },
  {
   "cell_type": "markdown",
   "metadata": {},
   "source": [
    "* 英语和添加`[start]`及`[end]`后的西班牙语展示："
   ]
  },
  {
   "cell_type": "code",
   "execution_count": 5,
   "metadata": {
    "execution": {
     "iopub.execute_input": "2022-12-15T06:13:49.483423Z",
     "iopub.status.busy": "2022-12-15T06:13:49.483123Z",
     "iopub.status.idle": "2022-12-15T06:13:49.492342Z",
     "shell.execute_reply": "2022-12-15T06:13:49.491623Z",
     "shell.execute_reply.started": "2022-12-15T06:13:49.483401Z"
    },
    "scrolled": true,
    "tags": []
   },
   "outputs": [
    {
     "name": "stdout",
     "output_type": "stream",
     "text": [
      "('If you wish, you can go.', '[start] Si quieres, puedes ir. [end]')\r\n",
      "('They were arguing about money.', '[start] Ellos estaban discutiendo por dinero. [end]')\r\n",
      "('Tom now works for Mary.', '[start] Ahora Tom trabaja para Mary. [end]')\r\n",
      "('It seems we are in the same boat.', '[start] Parece que vamos en el mismo bote. [end]')\r\n",
      "(\"I don't think what we did helped.\", '[start] No creo que lo que hicimos ayudase. [end]')\r\n"
     ]
    }
   ],
   "source": [
    "for _ in range(5):\n",
    "    print(random.choice(text_pairs))"
   ]
  },
  {
   "cell_type": "markdown",
   "metadata": {},
   "source": [
    "## 3.3划分数据集\n",
    "1. 随机打乱数据集\n",
    "2. 划分数据集，训练集：验证集：测试集 = 8 : 1 : 1"
   ]
  },
  {
   "cell_type": "code",
   "execution_count": 6,
   "metadata": {
    "execution": {
     "iopub.execute_input": "2022-12-15T06:13:49.493488Z",
     "iopub.status.busy": "2022-12-15T06:13:49.493178Z",
     "iopub.status.idle": "2022-12-15T06:13:49.591674Z",
     "shell.execute_reply": "2022-12-15T06:13:49.590991Z",
     "shell.execute_reply.started": "2022-12-15T06:13:49.493461Z"
    },
    "scrolled": true,
    "tags": []
   },
   "outputs": [
    {
     "name": "stdout",
     "output_type": "stream",
     "text": [
      "118964 total pairs\r\n",
      "95172 training pairs\r\n",
      "11896 validation pairs\r\n",
      "11896 test pairs\r\n"
     ]
    }
   ],
   "source": [
    "random.shuffle(text_pairs)\n",
    "num_val_samples = int(0.1 * len(text_pairs))\n",
    "num_train_samples = len(text_pairs) - 2 * num_val_samples\n",
    "train_pairs = text_pairs[:num_train_samples]\n",
    "val_pairs = text_pairs[num_train_samples : num_train_samples + num_val_samples]\n",
    "test_pairs = text_pairs[num_train_samples + num_val_samples :]\n",
    "\n",
    "print(f\"{len(text_pairs)} total pairs\")\n",
    "print(f\"{len(train_pairs)} training pairs\")\n",
    "print(f\"{len(val_pairs)} validation pairs\")\n",
    "print(f\"{len(test_pairs)} test pairs\")"
   ]
  },
  {
   "cell_type": "code",
   "execution_count": 7,
   "metadata": {
    "execution": {
     "iopub.execute_input": "2022-12-15T06:13:49.592890Z",
     "iopub.status.busy": "2022-12-15T06:13:49.592588Z",
     "iopub.status.idle": "2022-12-15T06:13:49.638174Z",
     "shell.execute_reply": "2022-12-15T06:13:49.637494Z",
     "shell.execute_reply.started": "2022-12-15T06:13:49.592868Z"
    },
    "scrolled": true,
    "tags": []
   },
   "outputs": [],
   "source": [
    "train_eng_texts = [pair[0] for pair in train_pairs]\n",
    "train_spa_texts = [pair[1] for pair in train_pairs]\n",
    "\n",
    "val_eng_texts = [pair[0] for pair in val_pairs]\n",
    "val_spa_texts = [pair[1] for pair in val_pairs]\n",
    "\n",
    "test_eng_texts = [pair[0] for pair in test_pairs]\n",
    "test_spa_texts = [pair[1] for pair in test_pairs]"
   ]
  },
  {
   "cell_type": "markdown",
   "metadata": {},
   "source": [
    "## 3.4 数据集预处理\n"
   ]
  },
  {
   "cell_type": "markdown",
   "metadata": {},
   "source": [
    "* 定义英语和西班牙语的预处理函数\n",
    "* save_punctuation=True:  保留标点符号，在标点之前（之后）加空格；\n",
    "* save_punctuation=False: 删除所有的标点"
   ]
  },
  {
   "cell_type": "code",
   "execution_count": 8,
   "metadata": {
    "execution": {
     "iopub.execute_input": "2022-12-15T06:13:49.639382Z",
     "iopub.status.busy": "2022-12-15T06:13:49.639099Z",
     "iopub.status.idle": "2022-12-15T06:13:49.658434Z",
     "shell.execute_reply": "2022-12-15T06:13:49.657782Z",
     "shell.execute_reply.started": "2022-12-15T06:13:49.639359Z"
    },
    "scrolled": true,
    "tags": []
   },
   "outputs": [],
   "source": [
    "def pre_process(datas, save_punctuation=False):\n",
    "    dataset=[]\n",
    "    # 定义标点符号集合\n",
    "    \n",
    "    strip_chars = string.punctuation + \"¿¡\" \n",
    "    strip_chars = strip_chars.replace(\"[\", \"\")\n",
    "    strip_chars = strip_chars.replace(\"]\", \"\")\n",
    "\n",
    "    for i in range(len(datas)):\n",
    "        lowercase=datas[i].lower() # 全部转为小写\n",
    "\n",
    "        out=\"\"\n",
    "        if save_punctuation:\n",
    "            # 在标点符号之前加空格，需注意有特殊情况\n",
    "            for low in lowercase:\n",
    "                if low in strip_chars:\n",
    "                    if low==\"¿\"or low==\"¡\": # 分别表示西班牙语的反问号、反叹号\n",
    "                        out+=low+\" \"\n",
    "                    else:\n",
    "                        out+=\" \"+low\n",
    "                else:\n",
    "                    out+=low\n",
    "        else:\n",
    "            # 也可以选择删除除所有的标点\n",
    "            for low in lowercase:\n",
    "                if low not in strip_chars:\n",
    "                    out+=low\n",
    "                    \n",
    "        dataset.append(out)\n",
    "    return dataset"
   ]
  },
  {
   "cell_type": "markdown",
   "metadata": {},
   "source": [
    "* 分别处理训练集、测试集、验证集上的英语和西班牙语数据"
   ]
  },
  {
   "cell_type": "code",
   "execution_count": 9,
   "metadata": {
    "execution": {
     "iopub.execute_input": "2022-12-15T06:13:49.659800Z",
     "iopub.status.busy": "2022-12-15T06:13:49.659294Z",
     "iopub.status.idle": "2022-12-15T06:13:50.541765Z",
     "shell.execute_reply": "2022-12-15T06:13:50.540879Z",
     "shell.execute_reply.started": "2022-12-15T06:13:49.659778Z"
    },
    "scrolled": true,
    "tags": []
   },
   "outputs": [
    {
     "name": "stdout",
     "output_type": "stream",
     "text": [
      "预处理结果展示：\r\n",
      "英语：标准化处理之前： I can go there on foot.\r\n",
      "英语：标准化处理之后： i can go there on foot\r\n",
      "西班牙语：标准化处理之前： [start] Puedo llegar allí a pie. [end]\r\n",
      "西班牙语：标准化处理之后： [start] puedo llegar allí a pie [end]\r\n"
     ]
    }
   ],
   "source": [
    "train_eng_texts_pre=pre_process(train_eng_texts)\n",
    "train_spa_texts_pre=pre_process(train_spa_texts)\n",
    "\n",
    "val_eng_texts_pre=pre_process(val_eng_texts)\n",
    "val_spa_texts_pre=pre_process(val_spa_texts)\n",
    "\n",
    "test_eng_texts_pre=pre_process(test_eng_texts)\n",
    "test_spa_texts_pre=pre_process(test_spa_texts)\n",
    "\n",
    "print(\"预处理结果展示：\")\n",
    "print(\"英语：标准化处理之前：\",train_eng_texts[0])\n",
    "print(\"英语：标准化处理之后：\",train_eng_texts_pre[0])\n",
    "\n",
    "print(\"西班牙语：标准化处理之前：\",train_spa_texts[0])\n",
    "print(\"西班牙语：标准化处理之后：\",train_spa_texts_pre[0])"
   ]
  },
  {
   "cell_type": "markdown",
   "metadata": {},
   "source": [
    "## 3.5 统计句子长度\n",
    "* 通过统计句子长度进而更加合理的设置网络的输入向量的长度"
   ]
  },
  {
   "cell_type": "markdown",
   "metadata": {},
   "source": [
    "#### 3.5.1 英语句子长度"
   ]
  },
  {
   "cell_type": "code",
   "execution_count": 10,
   "metadata": {
    "execution": {
     "iopub.execute_input": "2022-12-15T06:13:50.546536Z",
     "iopub.status.busy": "2022-12-15T06:13:50.545762Z",
     "iopub.status.idle": "2022-12-15T06:13:51.006975Z",
     "shell.execute_reply": "2022-12-15T06:13:51.006095Z",
     "shell.execute_reply.started": "2022-12-15T06:13:50.546509Z"
    },
    "scrolled": true
   },
   "outputs": [
    {
     "data": {
      "image/png": "[encoded data removed]",
      "text/plain": [
       "<Figure size 640x480 with 1 Axes>"
      ]
     },
     "metadata": {},
     "output_type": "display_data"
    }
   ],
   "source": [
    "dicta=dict()\n",
    "for text in train_eng_texts_pre:\n",
    "    lent=len(text.split())\n",
    "    if lent in dicta.keys():\n",
    "        dicta[lent]+=1\n",
    "    else:\n",
    "        dicta[lent]=1\n",
    "lita=sorted(dicta.items(), key = lambda x:x[0], reverse = True)\n",
    "\n",
    "x=[l[0] for l in lita]\n",
    "y=[l[1] for l in lita]\n",
    "plt.bar(x, y)  \n",
    "plt.xlabel('English sentences length')\n",
    "plt.ylabel('nums')\n",
    "plt.title('Information on the length of English sentences')\n",
    "plt.show()"
   ]
  },
  {
   "cell_type": "markdown",
   "metadata": {},
   "source": [
    "#### 3.5.2 西班牙语句子长度"
   ]
  },
  {
   "cell_type": "code",
   "execution_count": 11,
   "metadata": {
    "execution": {
     "iopub.execute_input": "2022-12-15T06:13:51.008414Z",
     "iopub.status.busy": "2022-12-15T06:13:51.008160Z",
     "iopub.status.idle": "2022-12-15T06:13:51.299610Z",
     "shell.execute_reply": "2022-12-15T06:13:51.298804Z",
     "shell.execute_reply.started": "2022-12-15T06:13:51.008392Z"
    },
    "scrolled": true
   },
   "outputs": [
    {
     "data": {
      "image/png": "[encoded data removed]",
      "text/plain": [
       "<Figure size 640x480 with 1 Axes>"
      ]
     },
     "metadata": {},
     "output_type": "display_data"
    }
   ],
   "source": [
    "dicta=dict()\n",
    "for text in train_spa_texts_pre:\n",
    "    lent=len(text.split())\n",
    "    if lent in dicta.keys():\n",
    "        dicta[lent]+=1\n",
    "    else:\n",
    "        dicta[lent]=1\n",
    "lita=sorted(dicta.items(), key = lambda x:x[0], reverse = True)\n",
    "\n",
    "x=[l[0] for l in lita]\n",
    "y=[l[1] for l in lita]\n",
    "plt.bar(x, y)  \n",
    "plt.xlabel('Spanish sentences length')\n",
    "plt.ylabel('nums')\n",
    "plt.title('Information on the length of Spanish sentences')\n",
    "plt.show()"
   ]
  },
  {
   "cell_type": "markdown",
   "metadata": {},
   "source": [
    "* 从统计信息可以看出，绝大部分英语和西班牙语的句子长度都在20以下，因此我们可以把输入向量的长度统一设置为20"
   ]
  },
  {
   "cell_type": "markdown",
   "metadata": {},
   "source": [
    "## 3.6 用训练集分别构造英语和西班牙语的语料库"
   ]
  },
  {
   "cell_type": "markdown",
   "metadata": {},
   "source": [
    "* 定义语料库创建函数"
   ]
  },
  {
   "cell_type": "code",
   "execution_count": 12,
   "metadata": {
    "collapsed": false,
    "execution": {
     "iopub.execute_input": "2022-12-15T06:13:51.300967Z",
     "iopub.status.busy": "2022-12-15T06:13:51.300719Z",
     "iopub.status.idle": "2022-12-15T06:13:51.305277Z",
     "shell.execute_reply": "2022-12-15T06:13:51.304535Z",
     "shell.execute_reply.started": "2022-12-15T06:13:51.300945Z"
    },
    "jupyter": {
     "outputs_hidden": false
    },
    "scrolled": true,
    "tags": []
   },
   "outputs": [],
   "source": [
    "def build_cropus(data):\n",
    "    crpous=[]\n",
    "    for i in range(len(data)):\n",
    "        cr=data[i].strip().lower()\n",
    "        cr=cr.split()\n",
    "        crpous.extend(cr)\n",
    "    return crpous\n"
   ]
  },
  {
   "cell_type": "markdown",
   "metadata": {},
   "source": [
    "* 用训练集分别创建**英语**和**西班牙语**语料库"
   ]
  },
  {
   "cell_type": "code",
   "execution_count": 13,
   "metadata": {
    "execution": {
     "iopub.execute_input": "2022-12-15T06:13:51.307021Z",
     "iopub.status.busy": "2022-12-15T06:13:51.306286Z",
     "iopub.status.idle": "2022-12-15T06:13:51.510078Z",
     "shell.execute_reply": "2022-12-15T06:13:51.509140Z",
     "shell.execute_reply.started": "2022-12-15T06:13:51.306996Z"
    },
    "scrolled": true
   },
   "outputs": [
    {
     "name": "stdout",
     "output_type": "stream",
     "text": [
      "['i', 'can', 'go']\r\n",
      "['[start]', 'puedo', 'llegar']\r\n"
     ]
    }
   ],
   "source": [
    "eng_crpous=build_cropus(train_eng_texts_pre)\n",
    "spa_crpous=build_cropus(train_spa_texts_pre)\n",
    "\n",
    "print(eng_crpous[:3])\n",
    "print(spa_crpous[:3])"
   ]
  },
  {
   "cell_type": "markdown",
   "metadata": {},
   "source": [
    "* 定义根据给定的词汇量并按照词汇出现的频率构造词典的函数"
   ]
  },
  {
   "cell_type": "code",
   "execution_count": 14,
   "metadata": {
    "execution": {
     "iopub.execute_input": "2022-12-15T06:13:51.511904Z",
     "iopub.status.busy": "2022-12-15T06:13:51.511331Z",
     "iopub.status.idle": "2022-12-15T06:13:51.517783Z",
     "shell.execute_reply": "2022-12-15T06:13:51.517057Z",
     "shell.execute_reply.started": "2022-12-15T06:13:51.511877Z"
    },
    "scrolled": true
   },
   "outputs": [],
   "source": [
    "def build_dict(corpus, vocab_size):\n",
    "\n",
    "    # 1.首先统计每个不同词的频率（出现的次数），使用一个词典记录\n",
    "    word_freq_dict = dict()\n",
    "    for word in corpus:\n",
    "        if word not in word_freq_dict:\n",
    "            word_freq_dict[word] = 0\n",
    "        word_freq_dict[word] += 1\n",
    "\n",
    "    # 2.将词典中的词，按照出现次数排序，出现次数越高，排序越靠前\n",
    "    word_freq_dict = sorted(word_freq_dict.items(), key = lambda x:x[1], reverse = True)\n",
    "\n",
    "\n",
    "    # 3.构造2个不同的词典\n",
    "    # 每个词到id的映射关系：word2id_dict\n",
    "    # 每个id到词的映射关系：id2word_dict\n",
    "    word2id_dict = {'<pad>':0,'<unk>':1}\n",
    "    id2word_dict = {0:'<pad>',1:'<unk>'}\n",
    "\n",
    "    # 4.按照频率，从高到低，开始遍历每个单词，并为这个单词构造一个独一无二的id\n",
    "    i = 2\n",
    "    for word, freq in word_freq_dict:\n",
    "        if i < vocab_size:\n",
    "            word2id_dict[word] = i\n",
    "            id2word_dict[i] = word\n",
    "            i += 1\n",
    "        else: # 超过指定的词汇量，指向<unk>\n",
    "            word2id_dict[word] = 1\n",
    "    return word2id_dict, id2word_dict"
   ]
  },
  {
   "cell_type": "markdown",
   "metadata": {},
   "source": [
    "* 定义词汇量，建议定义的大一些，减少oov(out of vocabulary)词汇，oov词汇一般使用`<unk>`表示。英语词汇量和西班牙语词汇量上限可以分开定义，也可以共享上限。我们可以统计出我们使用的[English-to-Spanish数据集](https://aistudio.baidu.com/aistudio/datasetdetail/173968/0)中英语词汇有12089个，西班牙语词汇有22533个，如果共享词汇量上限，那么\n",
    "    - 如果设置的词汇量小于12089，则英语和西班牙语中都会出现`<unk>`\n",
    "    - 如果设置的词汇量大于12089而小于22533，则英语中不会有`<unk>`,而西班牙语中会出现`<unk>`\n",
    "    - 如果设置的词汇量大于22533，则英语和西班牙语中都不会出现`<unk>`\n",
    "* 词汇量大小的设置会影响预测结果，在算力足够的情况下，词汇量设置的大一些比较好。\n",
    "* 分别获取英语、西班牙语的token和id的转换词典\n"
   ]
  },
  {
   "cell_type": "code",
   "execution_count": 15,
   "metadata": {
    "execution": {
     "iopub.execute_input": "2022-12-15T06:13:51.519249Z",
     "iopub.status.busy": "2022-12-15T06:13:51.518792Z",
     "iopub.status.idle": "2022-12-15T06:13:51.863579Z",
     "shell.execute_reply": "2022-12-15T06:13:51.862558Z",
     "shell.execute_reply.started": "2022-12-15T06:13:51.519224Z"
    },
    "scrolled": true,
    "tags": []
   },
   "outputs": [
    {
     "name": "stdout",
     "output_type": "stream",
     "text": [
      "我们设置的英语总词汇上限为： 25000 \t总的英语词汇量为： 12655 \t我们实际使用的英语词汇量为 12655\r\n",
      "我们设置的西班牙语总词汇上限为： 25000 \t总的西班牙语词汇量为： 23791 \t我们实际使用的西班牙语词汇量为 23791\r\n"
     ]
    }
   ],
   "source": [
    "vocab_size = 25000  #共享词汇量上限\n",
    "eng2id_dict,id2eng_dict=build_dict(eng_crpous, vocab_size)\n",
    "spa2id_dict,id2spa_dict=build_dict(spa_crpous, vocab_size)\n",
    "\n",
    "print(\"我们设置的英语总词汇上限为：\",vocab_size,\"\\t总的英语词汇量为：\",len(eng2id_dict),\"\\t我们实际使用的英语词汇量为\",len(id2eng_dict))\n",
    "print(\"我们设置的西班牙语总词汇上限为：\",vocab_size,\"\\t总的西班牙语词汇量为：\",len(spa2id_dict),\"\\t我们实际使用的西班牙语词汇量为\",len(id2spa_dict))"
   ]
  },
  {
   "cell_type": "markdown",
   "metadata": {},
   "source": [
    "## 3.7 输入向量化\n",
    "* maxlen是我们进行向量长度，超过该长度的向量被截断（弃尾）；不足该长度的进行padding（padding值为0）\n"
   ]
  },
  {
   "cell_type": "code",
   "execution_count": 16,
   "metadata": {
    "execution": {
     "iopub.execute_input": "2022-12-15T06:13:51.865334Z",
     "iopub.status.busy": "2022-12-15T06:13:51.864775Z",
     "iopub.status.idle": "2022-12-15T06:13:51.870695Z",
     "shell.execute_reply": "2022-12-15T06:13:51.869965Z",
     "shell.execute_reply.started": "2022-12-15T06:13:51.865306Z"
    },
    "scrolled": true,
    "tags": []
   },
   "outputs": [],
   "source": [
    "def build_tensor(data, dicta, maxlen):\n",
    "    tensor=[]\n",
    "    for i in range(len(data)):\n",
    "        subtensor=[]\n",
    "        lista=data[i].split()\n",
    "        for j in range(len(lista)):\n",
    "            index=dicta.get(lista[j])\n",
    "            # 对于训练解和测试集，可能会出现未在词表中的词汇，此时index会返回None,此时我们指定index=1,即指向<unk>\n",
    "            if index==None:\n",
    "                index=1\n",
    "            subtensor.append(index)\n",
    "    \n",
    "        if len(subtensor) < maxlen:\n",
    "            # 0是我们进行padding的向量值\n",
    "            subtensor += [0] * (maxlen - len(subtensor))\n",
    "        else:\n",
    "            subtensor=subtensor[:maxlen]\n",
    "\n",
    "        tensor.append(subtensor)\n",
    "    return np.array(tensor)"
   ]
  },
  {
   "cell_type": "code",
   "execution_count": 17,
   "metadata": {
    "collapsed": false,
    "execution": {
     "iopub.execute_input": "2022-12-15T06:13:51.872312Z",
     "iopub.status.busy": "2022-12-15T06:13:51.871723Z",
     "iopub.status.idle": "2022-12-15T06:13:53.739097Z",
     "shell.execute_reply": "2022-12-15T06:13:53.738077Z",
     "shell.execute_reply.started": "2022-12-15T06:13:51.872290Z"
    },
    "jupyter": {
     "outputs_hidden": false
    },
    "scrolled": true,
    "tags": []
   },
   "outputs": [],
   "source": [
    "sequence_length = 20 # 语句长度我们统一设置为20，可以依据3.5小结的统计信息分开设置\n",
    "\n",
    "train_eng_tensor=build_tensor(train_eng_texts_pre, eng2id_dict, sequence_length)\n",
    "val_eng_tensor=build_tensor(val_eng_texts_pre, eng2id_dict, sequence_length)\n",
    "test_eng_tensor=build_tensor(test_eng_texts_pre, eng2id_dict, sequence_length)\n",
    "\n",
    "train_spa_tensor=build_tensor(train_spa_texts_pre, spa2id_dict, sequence_length)\n",
    "val_spa_tensor=build_tensor(val_spa_texts_pre, spa2id_dict, sequence_length)\n",
    "test_spa_tensor=build_tensor(test_spa_texts_pre, spa2id_dict, sequence_length)"
   ]
  },
  {
   "cell_type": "markdown",
   "metadata": {},
   "source": [
    "## 3.8 封装数据集\n",
    "\n"
   ]
  },
  {
   "cell_type": "markdown",
   "metadata": {},
   "source": [
    "* 使用paddle.io.Dataset 封装数据集"
   ]
  },
  {
   "cell_type": "code",
   "execution_count": 18,
   "metadata": {
    "collapsed": false,
    "execution": {
     "iopub.execute_input": "2022-12-15T06:13:53.740755Z",
     "iopub.status.busy": "2022-12-15T06:13:53.740343Z",
     "iopub.status.idle": "2022-12-15T06:13:53.746575Z",
     "shell.execute_reply": "2022-12-15T06:13:53.745748Z",
     "shell.execute_reply.started": "2022-12-15T06:13:53.740727Z"
    },
    "jupyter": {
     "outputs_hidden": false
    },
    "scrolled": true,
    "tags": []
   },
   "outputs": [],
   "source": [
    "class MyDataset(Dataset):\n",
    "    \"\"\"\n",
    "    步骤一：继承paddle.io.Dataset类\n",
    "    \"\"\"\n",
    "    def __init__(self, eng, spa):\n",
    "        \"\"\"\n",
    "        步骤二：实现构造函数，定义数据集大小\n",
    "        \"\"\"\n",
    "        super(MyDataset, self).__init__()\n",
    "        self.eng = eng\n",
    "        self.spa = spa\n",
    "\n",
    "    def __getitem__(self, index):\n",
    "        \"\"\"\n",
    "        步骤三：实现__getitem__方法，定义指定index时如何获取数据，并返回单条数据（训练数据，对应的标签）\n",
    "        \"\"\"\n",
    "        return self.eng[index], self.spa[index]\n",
    "\n",
    "    def __len__(self):\n",
    "        \"\"\"\n",
    "        步骤四：实现__len__方法，返回数据集总数目\n",
    "        \"\"\"\n",
    "        return self.eng.shape[0]\n",
    "\n"
   ]
  },
  {
   "cell_type": "markdown",
   "metadata": {},
   "source": [
    "* 定义对每个minibatch的数据集进行处理的函数\n",
    "* padid=0,0是`<pad>`字段的对应的值，与3.6中我们的字典设计对应\n",
    "* 该函数返回值的含义：\n",
    "    - 第一个返回值：英语输入向量，shape=[batchsize,sequence_length]\n",
    "    - 第二个返回值：西班牙语输入向量，shape=[batchsize,sequence_length-1],第二个维度是`sequence_length-1`,因为我们使用`teacher force`技巧进行训练。实际上我是取的**前**`sequence_length-1`个向量。\n",
    "    - 第三个返回值：西班牙语目标向量，shape=[batchsize,sequence_length-1,1],第二个维度也是`sequence_length-1`,因为我们使用`teacher force`技巧进行训练。实际上我是取的**后**`sequence_length-1`个向量。此外，我们额外增加了一个维度，用于loss的计算。\n",
    "    - 第四个返回值：用于消除padding位置对loss的影响，主要在我们的自定义loss中进行使用。"
   ]
  },
  {
   "cell_type": "code",
   "execution_count": 19,
   "metadata": {
    "execution": {
     "iopub.execute_input": "2022-12-15T06:13:53.748282Z",
     "iopub.status.busy": "2022-12-15T06:13:53.747672Z",
     "iopub.status.idle": "2022-12-15T06:13:53.753405Z",
     "shell.execute_reply": "2022-12-15T06:13:53.752709Z",
     "shell.execute_reply.started": "2022-12-15T06:13:53.748256Z"
    },
    "scrolled": true,
    "tags": []
   },
   "outputs": [],
   "source": [
    "def prepare_input(inputs, padid=0):\n",
    "    src = np.array([inputsub[0] for inputsub in inputs])\n",
    "    trg = np.array([inputsub[1] for inputsub in inputs])\n",
    "    trg_mask = (trg[:,:-1] != padid).astype(paddle.get_default_dtype())\n",
    "    return src, trg[:,:-1], trg[:, 1:, np.newaxis], trg_mask"
   ]
  },
  {
   "cell_type": "markdown",
   "metadata": {},
   "source": [
    "* 设置batchsize\n",
    "* 使用paddle.io.DataLoader 封装用于训练的minibatch数据"
   ]
  },
  {
   "cell_type": "code",
   "execution_count": 20,
   "metadata": {
    "collapsed": false,
    "execution": {
     "iopub.execute_input": "2022-12-15T06:13:53.755081Z",
     "iopub.status.busy": "2022-12-15T06:13:53.754400Z",
     "iopub.status.idle": "2022-12-15T06:13:53.759926Z",
     "shell.execute_reply": "2022-12-15T06:13:53.759228Z",
     "shell.execute_reply.started": "2022-12-15T06:13:53.755056Z"
    },
    "jupyter": {
     "outputs_hidden": false
    },
    "scrolled": true
   },
   "outputs": [],
   "source": [
    "BATCH_SIZE=64 \n",
    "\n",
    "train_dataset = MyDataset(train_eng_tensor, train_spa_tensor)\n",
    "train_loader = paddle.io.DataLoader(train_dataset, batch_size = BATCH_SIZE, shuffle = True, drop_last = True, collate_fn = partial(prepare_input))\n",
    "\n",
    "val_dataset = MyDataset(val_eng_tensor, val_spa_tensor)\n",
    "val_loader = paddle.io.DataLoader(val_dataset, batch_size = BATCH_SIZE, shuffle = True, drop_last = True, collate_fn = partial(prepare_input))\n",
    "\n",
    "test_dataset = MyDataset(test_eng_tensor, test_spa_tensor)\n",
    "test_loader = paddle.io.DataLoader(test_dataset, batch_size = BATCH_SIZE, shuffle = True, drop_last = True, collate_fn = partial(prepare_input))"
   ]
  },
  {
   "cell_type": "markdown",
   "metadata": {},
   "source": [
    "# 4.模型组网\n",
    "\n"
   ]
  },
  {
   "cell_type": "code",
   "execution_count": 21,
   "metadata": {
    "execution": {
     "iopub.execute_input": "2022-12-15T06:13:53.761608Z",
     "iopub.status.busy": "2022-12-15T06:13:53.760943Z",
     "iopub.status.idle": "2022-12-15T06:13:53.764541Z",
     "shell.execute_reply": "2022-12-15T06:13:53.763888Z",
     "shell.execute_reply.started": "2022-12-15T06:13:53.761584Z"
    },
    "scrolled": true
   },
   "outputs": [],
   "source": [
    "# 为方便调试网络，我们提前定义一些参数\n",
    "embed_dim=256 # 词嵌入embedding的维度\n",
    "latent_dim=2048 # feed forward 前馈神经网络的相关参数\n",
    "num_heads=8 # 多头注意力机制的‘头’数"
   ]
  },
  {
   "attachments": {},
   "cell_type": "markdown",
   "metadata": {},
   "source": [
    "## 4.1 输入处理\n",
    "Transformer的输入部分使用的是词嵌入(word embedding)和位置编码(positional encoding)的结合。Transformer模型并不包括任何的循环或卷积网络，所以模型添加了位置编码，为模型提供一些关于单词在句子中绝对位置的信息。这个位置编码的具体计算方法有很多种，论文中的计算方法如下：\n",
    "$$\n",
    "PE\\left( pos,2i \\right) =\\sin \\left( pos/10000^{2i/embed\\_dim} \\  \\right) \n",
    "$$\n",
    "\n",
    "$$\n",
    "PE\\left( pos,2i+1 \\right) =\\cos \\left( pos/10000^{2i/embed\\_dim}\\  \\right) \n",
    "$$\n",
    "\n",
    "\n",
    "其中pos是指当前token在句子中的位置，i是指向量中每个值的index，可以看出，在偶数位置，使用正弦编码，在奇数位置，使用余弦编码。"
   ]
  },
  {
   "cell_type": "code",
   "execution_count": 22,
   "metadata": {
    "execution": {
     "iopub.execute_input": "2022-12-15T06:13:53.766166Z",
     "iopub.status.busy": "2022-12-15T06:13:53.765553Z",
     "iopub.status.idle": "2022-12-15T06:13:53.775093Z",
     "shell.execute_reply": "2022-12-15T06:13:53.774408Z",
     "shell.execute_reply.started": "2022-12-15T06:13:53.766135Z"
    },
    "scrolled": true
   },
   "outputs": [],
   "source": [
    "class TransformerEmbedding(paddle.nn.Layer):\n",
    "    def __init__(self, sequence_length, vocab_size, embed_dim):\n",
    "        super(TransformerEmbedding, self).__init__()\n",
    "        self.token_embeddings = paddle.nn.Embedding(num_embeddings = vocab_size, embedding_dim = embed_dim)\n",
    "        self.position_embeddings = self.get_position_embedding(sequence_length, embed_dim)\n",
    "\n",
    "    def forward(self, inputs):\n",
    "        seq_len = inputs.shape[1]\n",
    "        embedded_tokens = self.token_embeddings(inputs)\n",
    "        embedded_positions = self.position_embeddings\n",
    "        return embedded_tokens + embedded_positions[:, :seq_len, :]\n",
    "\n",
    "    def compute_mask(self, inputs, mask = None):\n",
    "        return paddle.not_equal(inputs, 0)\n",
    "    \n",
    "    def get_angles(self,pos,i,d_model):\n",
    "        angle_rate = 1 / np.power(10000, (2 * (i // 2))/np.float32(d_model))\n",
    "        return pos * angle_rate\n",
    "\n",
    "    def get_position_embedding(self, sentence_length, d_model):\n",
    "        angle_rads=self.get_angles(np.arange(sentence_length)[:, np.newaxis],\n",
    "                            np.arange(d_model)[np.newaxis, :],\n",
    "                            d_model)\n",
    "        sines=np.sin(angle_rads[:,0::2])\n",
    "        cosines=np.cos(angle_rads[:,1::2])\n",
    "        \n",
    "        position_embedding=np.concatenate([sines,cosines], axis = -1)\n",
    "        position_embedding=paddle.to_tensor(position_embedding[np.newaxis, ...])\n",
    "        \n",
    "        return paddle.cast(position_embedding, dtype = 'float32')"
   ]
  },
  {
   "cell_type": "markdown",
   "metadata": {},
   "source": [
    "## 4.2 Encoder\n",
    "Encoder部分主要包含了多头注意力机制、归一化层以及前馈神经网络。输入会依次经过多头注意力模块、归一化层构成的残差模块、前馈神经网络模块、归一化层构成的残差模块。\n",
    "* 多头注意力机制（MultiHeadAttention）：使用`paddle.nn.MultiHeadAttention`实现多头注意力机制，需要注意其掩码attn_mask需要的shape是[batch_szie,num_heads,sequence_legth,sequence_legth]\n",
    "* 前馈神经网络（Feed Forward）：输入经过MultiHeadAttention层后，经过一层feed forward层。模型中的feed forward，采用的是一种posion-wise feed-forward的方法，即先对输入加一个全连接网络，之后使用Relu激活，之后再加一个全连接网络。\n",
    "* 残差网络：由归一化（LayerNorm）后的结果与之前时刻的输入相加组成。LayerNorm会在每一个样本上计算均值和方差。\n"
   ]
  },
  {
   "cell_type": "code",
   "execution_count": 23,
   "metadata": {
    "execution": {
     "iopub.execute_input": "2022-12-15T06:13:53.776579Z",
     "iopub.status.busy": "2022-12-15T06:13:53.776049Z",
     "iopub.status.idle": "2022-12-15T06:13:53.782493Z",
     "shell.execute_reply": "2022-12-15T06:13:53.781817Z",
     "shell.execute_reply.started": "2022-12-15T06:13:53.776557Z"
    },
    "scrolled": true
   },
   "outputs": [],
   "source": [
    "class TransformerEncoder(paddle.nn.Layer):\n",
    "    def __init__(self, embed_dim, dense_dim, num_heads):\n",
    "        super(TransformerEncoder, self).__init__()\n",
    "        self.embed_dim = embed_dim\n",
    "        self.dense_dim = dense_dim\n",
    "        self.num_heads = num_heads\n",
    "        self.attention = paddle.nn.MultiHeadAttention(num_heads = num_heads, embed_dim = embed_dim, dropout = 0.1)\n",
    "\n",
    "        \n",
    "        self.dense_proj =paddle.nn.Sequential(\n",
    "            paddle.nn.Linear(embed_dim, dense_dim), \n",
    "            paddle.nn.ReLU(),\n",
    "            paddle.nn.Linear(dense_dim, embed_dim) )\n",
    "\n",
    "        self.layernorm_1 = paddle.nn.LayerNorm(embed_dim)\n",
    "        self.layernorm_2 = paddle.nn.LayerNorm(embed_dim)\n",
    "        \n",
    "\n",
    "    def forward(self, inputs):\n",
    "        attention_output = self.attention(query = inputs, value = inputs, key = inputs)\n",
    "        proj_input = self.layernorm_1(inputs + attention_output)\n",
    "        proj_output = self.dense_proj(proj_input)\n",
    "        return self.layernorm_2(proj_input + proj_output)"
   ]
  },
  {
   "cell_type": "markdown",
   "metadata": {},
   "source": [
    "## 4.3 Decoder\n",
    "编码器含有两个多头注意力模块，第一个是带序列掩码的多头注意力模块，用于处理西班牙语的输入；第二个多头注意力模块是用于处理编码器的输出和前一个多头注意力机制的输出。输入在编码器其中会依次经过带序列掩码的多头注意力模块、归一化层构成的残差模块、多头注意力模块、归一化层构成的残差模块、前馈神经网络模块、归一化层构成的残差模块。\n",
    "* 序列掩码：为了使得 decoder 不能看见未来的信息。也就是对于一个序列，在 time_step 为 t 的时刻，我们的解码输出应该只能依赖于 t 时刻之前的输出，而不能依赖 t 之后的输出。因此我们需要想一个办法，把 t 之后的信息给隐藏起来。做法是产生一个上三角矩阵，上三角的值全为0。把这个矩阵作用在每一个序列上，就可以达到我们的目的。\n"
   ]
  },
  {
   "cell_type": "code",
   "execution_count": 24,
   "metadata": {
    "execution": {
     "iopub.execute_input": "2022-12-15T06:13:53.783596Z",
     "iopub.status.busy": "2022-12-15T06:13:53.783383Z",
     "iopub.status.idle": "2022-12-15T06:13:53.794075Z",
     "shell.execute_reply": "2022-12-15T06:13:53.793353Z",
     "shell.execute_reply.started": "2022-12-15T06:13:53.783577Z"
    },
    "scrolled": true
   },
   "outputs": [],
   "source": [
    "class TransformerDecoder(paddle.nn.Layer):\n",
    "    def __init__(self, embed_dim, latent_dim, num_heads):\n",
    "        super(TransformerDecoder, self).__init__()\n",
    "        self.embed_dim = embed_dim\n",
    "        self.latent_dim = latent_dim\n",
    "        self.num_heads = num_heads\n",
    "        self.attention_1 = paddle.nn.MultiHeadAttention(num_heads = num_heads, embed_dim = embed_dim)\n",
    "\n",
    "        self.attention_2 = paddle.nn.MultiHeadAttention(num_heads = num_heads, embed_dim = embed_dim)\n",
    "\n",
    "        self.dense_proj = paddle.nn.Sequential(\n",
    "            paddle.nn.Linear(embed_dim, latent_dim), \n",
    "            paddle.nn.ReLU(),\n",
    "            paddle.nn.Linear(latent_dim, embed_dim) )\n",
    "\n",
    "        self.layernorm_1 = paddle.nn.LayerNorm(embed_dim)\n",
    "        self.layernorm_2 = paddle.nn.LayerNorm(embed_dim)\n",
    "        self.layernorm_3 = paddle.nn.LayerNorm(embed_dim)\n",
    "        \n",
    "\n",
    "    def forward(self, inputs, encoder_outputs):\n",
    "        causal_mask = self.get_causal_attention_mask(inputs) #[batch_size, equence_length, sequence_length]\n",
    "      \n",
    "        attention_output_1 = self.attention_1(query = inputs, value = inputs, key = inputs, attn_mask = causal_mask)# attn_mask: [batch_size, n_head, sequence_length, sequence_length]\n",
    "        out_1 = self.layernorm_1(inputs + attention_output_1)\n",
    "\n",
    "        attention_output_2 = self.attention_2(query = out_1, value = encoder_outputs, key = encoder_outputs)\n",
    "        out_2 = self.layernorm_2(out_1 + attention_output_2)\n",
    "\n",
    "        proj_output = self.dense_proj(out_2)\n",
    "        return self.layernorm_3(out_2 + proj_output)\n",
    "\n",
    "    def get_causal_attention_mask(self, inputs):\n",
    "        input_shape = inputs.shape\n",
    "        batch_size, sequence_length = input_shape[0], input_shape[1]\n",
    "        i = paddle.arange(sequence_length)[:, np.newaxis]\n",
    "        j = paddle.arange(sequence_length)\n",
    "        mask = paddle.cast(i >= j, dtype = \"int32\") #[sequence_length, sequence_length]\n",
    "        mask = paddle.reshape(mask, (1, 1, input_shape[1], input_shape[1])) #[1, equence_length, sequence_length]\n",
    "        mult = paddle.concat([paddle.to_tensor(64, dtype = 'int32'), paddle.to_tensor([1, 1, 1], dtype = \"int32\")], axis = 0,) #[batch_size,1,1]\n",
    "        return paddle.tile(mask, mult) #[batch_size, equence_length, sequence_length]"
   ]
  },
  {
   "cell_type": "markdown",
   "metadata": {},
   "source": [
    "## 4.4 搭建Transformer模型\n",
    "![](https://ai-studio-static-online.cdn.bcebos.com/ca0931928b4a41af97a318f66957767c9ffda9b248634f4182cfda80e6a3923a)\n",
    "\n",
    "我们搭建Transformer模型主要包含以下模块：\n",
    "* 编码器输入的词嵌入与位置编码处理模块\n",
    "* 编码器模块（N=1）\n",
    "* 解码器输入的词嵌入与位置编码处理模块\n",
    "* 解码器模块（N=1）\n",
    "* 线性输出层\n",
    "\n",
    "按照图示，Transformer还应该有一层softmax将模型的预测结果归一化，我们在loss函数中实现该操作。"
   ]
  },
  {
   "cell_type": "code",
   "execution_count": 29,
   "metadata": {
    "execution": {
     "iopub.execute_input": "2022-12-15T07:45:32.408383Z",
     "iopub.status.busy": "2022-12-15T07:45:32.407651Z",
     "iopub.status.idle": "2022-12-15T07:45:32.439828Z",
     "shell.execute_reply": "2022-12-15T07:45:32.439019Z",
     "shell.execute_reply.started": "2022-12-15T07:45:32.408351Z"
    },
    "scrolled": true
   },
   "outputs": [
    {
     "name": "stdout",
     "output_type": "stream",
     "text": [
      "--------------------------------------------------------------------------------------------\r\n",
      "     Layer (type)               Input Shape               Output Shape         Param #    \r\n",
      "============================================================================================\r\n",
      "     Embedding-5                 [[64, 20]]              [64, 20, 256]        6,400,000   \r\n",
      "TransformerEmbedding-5           [[64, 20]]              [64, 20, 256]            0       \r\n",
      "      Linear-35               [[64, 20, 256]]            [64, 20, 256]         65,792     \r\n",
      "      Linear-36               [[64, 20, 256]]            [64, 20, 256]         65,792     \r\n",
      "      Linear-37               [[64, 20, 256]]            [64, 20, 256]         65,792     \r\n",
      "      Linear-38               [[64, 20, 256]]            [64, 20, 256]         65,792     \r\n",
      " MultiHeadAttention-7                []                  [64, 20, 256]            0       \r\n",
      "     LayerNorm-11             [[64, 20, 256]]            [64, 20, 256]           512      \r\n",
      "      Linear-39               [[64, 20, 256]]            [64, 20, 2048]        526,336    \r\n",
      "        ReLU-5                [[64, 20, 2048]]           [64, 20, 2048]           0       \r\n",
      "      Linear-40               [[64, 20, 2048]]           [64, 20, 256]         524,544    \r\n",
      "     LayerNorm-12             [[64, 20, 256]]            [64, 20, 256]           512      \r\n",
      " TransformerEncoder-3         [[64, 20, 256]]            [64, 20, 256]            0       \r\n",
      "     Embedding-6                 [[64, 20]]              [64, 20, 256]        6,400,000   \r\n",
      "TransformerEmbedding-6           [[64, 20]]              [64, 20, 256]            0       \r\n",
      "      Linear-41               [[64, 20, 256]]            [64, 20, 256]         65,792     \r\n",
      "      Linear-42               [[64, 20, 256]]            [64, 20, 256]         65,792     \r\n",
      "      Linear-43               [[64, 20, 256]]            [64, 20, 256]         65,792     \r\n",
      "      Linear-44               [[64, 20, 256]]            [64, 20, 256]         65,792     \r\n",
      " MultiHeadAttention-8                []                  [64, 20, 256]            0       \r\n",
      "     LayerNorm-13             [[64, 20, 256]]            [64, 20, 256]           512      \r\n",
      "      Linear-45               [[64, 20, 256]]            [64, 20, 256]         65,792     \r\n",
      "      Linear-46               [[64, 20, 256]]            [64, 20, 256]         65,792     \r\n",
      "      Linear-47               [[64, 20, 256]]            [64, 20, 256]         65,792     \r\n",
      "      Linear-48               [[64, 20, 256]]            [64, 20, 256]         65,792     \r\n",
      " MultiHeadAttention-9                []                  [64, 20, 256]            0       \r\n",
      "     LayerNorm-14             [[64, 20, 256]]            [64, 20, 256]           512      \r\n",
      "      Linear-49               [[64, 20, 256]]            [64, 20, 2048]        526,336    \r\n",
      "        ReLU-6                [[64, 20, 2048]]           [64, 20, 2048]           0       \r\n",
      "      Linear-50               [[64, 20, 2048]]           [64, 20, 256]         524,544    \r\n",
      "     LayerNorm-15             [[64, 20, 256]]            [64, 20, 256]           512      \r\n",
      " TransformerDecoder-3  [[64, 20, 256], [64, 20, 256]]    [64, 20, 256]            0       \r\n",
      "      Dropout-3               [[64, 20, 256]]            [64, 20, 256]            0       \r\n",
      "      Linear-51               [[64, 20, 256]]           [64, 20, 25000]       6,425,000   \r\n",
      "============================================================================================\r\n",
      "Total params: 22,118,824\r\n",
      "Trainable params: 22,118,824\r\n",
      "Non-trainable params: 0\r\n",
      "--------------------------------------------------------------------------------------------\r\n",
      "Input size (MB): 0.01\r\n",
      "Forward/backward pass size (MB): 396.64\r\n",
      "Params size (MB): 84.38\r\n",
      "Estimated Total Size (MB): 481.03\r\n",
      "--------------------------------------------------------------------------------------------\r\n",
      "\r\n"
     ]
    },
    {
     "data": {
      "text/plain": [
       "{'total_params': 22118824, 'trainable_params': 22118824}"
      ]
     },
     "execution_count": 29,
     "metadata": {},
     "output_type": "execute_result"
    }
   ],
   "source": [
    "class Transformer(paddle.nn.Layer):\n",
    "    def __init__(self, embed_dim, latent_dim, num_heads, sequence_length, vocab_size):\n",
    "        super(Transformer, self).__init__()\n",
    "\n",
    "        self.ps1=TransformerEmbedding(sequence_length, vocab_size, embed_dim)\n",
    "        self.encoder=TransformerEncoder(embed_dim, latent_dim, num_heads)\n",
    "\n",
    "        self.ps2=TransformerEmbedding(sequence_length, vocab_size, embed_dim)\n",
    "        self.decoder=TransformerDecoder(embed_dim, latent_dim, num_heads) \n",
    "\n",
    "        self.drop=paddle.nn.Dropout(p = 0.5)\n",
    "        self.lastLinear=paddle.nn.Linear(embed_dim, vocab_size)\n",
    "\n",
    "    def forward(self, encoder_inputs, decoder_inputs):\n",
    "        # 编码器\n",
    "        encoder_emb=self.ps1(encoder_inputs)\n",
    "        encoder_outputs=self.encoder(encoder_emb)\n",
    "\n",
    "        # 解码器\n",
    "        deocder_emb=self.ps2(decoder_inputs)\n",
    "        decoder_outputs=self.decoder(deocder_emb, encoder_outputs)\n",
    "\n",
    "        # dropout\n",
    "        out=self.drop(decoder_outputs)\n",
    "\n",
    "        #最后输出\n",
    "        out=self.lastLinear(out)\n",
    "\n",
    "        return out\n",
    "\n",
    "trans=Transformer(embed_dim, latent_dim, num_heads, sequence_length, vocab_size)\n",
    "paddle.summary(trans, input_size = [(64,20),(64,20)], dtypes = 'int32')"
   ]
  },
  {
   "cell_type": "markdown",
   "metadata": {},
   "source": [
    "# 5.模型训练与评估"
   ]
  },
  {
   "cell_type": "markdown",
   "metadata": {},
   "source": [
    "## 5.1 自定义loss函数\n",
    "* 自定义loss函数的目的是将消除填充位置对loss的影响\n",
    "* softmax_with_cross_entropy是softmax交叉熵损失函数。该函数会将 softmax 操作、交叉熵损失函数的计算过程进行合并，从而提供了数值上更稳定的梯度值。"
   ]
  },
  {
   "cell_type": "code",
   "execution_count": 26,
   "metadata": {
    "execution": {
     "iopub.execute_input": "2022-12-15T06:13:56.424123Z",
     "iopub.status.busy": "2022-12-15T06:13:56.423344Z",
     "iopub.status.idle": "2022-12-15T06:13:56.428956Z",
     "shell.execute_reply": "2022-12-15T06:13:56.428230Z",
     "shell.execute_reply.started": "2022-12-15T06:13:56.424094Z"
    },
    "scrolled": true
   },
   "outputs": [],
   "source": [
    "class CrossEntropy(paddle.nn.Layer):\n",
    "    def __init__(self):\n",
    "        super(CrossEntropy,self).__init__()\n",
    "\n",
    "    def forward(self,pre,real,trg_mask):\n",
    "\n",
    "        # 返回的数据类型与pre一致，除了axis维度(未指定则为-1)，其他维度也与pre一致\n",
    "        # logits=pre,[batch_size,sequence_len,word_size],猜测会进行argmax操作，[batch_size,sequence_len,1]\n",
    "        # 默认的soft_label为False，lable=real,[bacth_size,sequence_len,1]\n",
    "        cost=paddle.nn.functional.softmax_with_cross_entropy(logits = pre, label = real, soft_label = False)\n",
    "        \n",
    "        # 删除axis=2 shape上为1的维度\n",
    "        # 返回结果的形状应为 [batch_size,sequence_len]\n",
    "        cost=paddle.squeeze(cost, axis = [2])\n",
    "\n",
    "        # trg_mask 的形状[batch_size,suqence_len]\n",
    "        # * 这个星号应该是对应位置相乘，返回结果的形状 [bathc_szie,sequence_len]\n",
    "        masked_cost=cost * trg_mask\n",
    "\n",
    "        return paddle.mean(masked_cost)"
   ]
  },
  {
   "cell_type": "markdown",
   "metadata": {},
   "source": [
    "## 5.2 训练与验证\n",
    "* 定义训练的轮数epochs\n",
    "* 实例化模型类并使用paddle.Model进行封装\n",
    "* 实例化NoamDecay类，实现动态学习率\n",
    "* Adam优化器\n",
    "* 使用自定义的loss函数\n",
    "* 验证结果的Accuracy"
   ]
  },
  {
   "cell_type": "code",
   "execution_count": null,
   "metadata": {
    "scrolled": true,
    "tags": []
   },
   "outputs": [],
   "source": [
    "epochs = 100   \n",
    "trans=Transformer(embed_dim, latent_dim, num_heads, sequence_length, vocab_size)\n",
    "model=paddle.Model(trans)\n",
    "\n",
    "scheduler = paddle.optimizer.lr.NoamDecay(d_model = latent_dim, warmup_steps = 100, verbose = False) #动态调整学习率 \n",
    "model.prepare(optimizer = paddle.optimizer.Adam(learning_rate = scheduler, parameters = model.parameters()),\n",
    "              loss = CrossEntropy(),\n",
    "              metrics = paddle.metric.Accuracy())\n",
    "\n",
    "model.fit(train_data = train_loader, \n",
    "          epochs = epochs,\n",
    "          eval_data = val_loader,\n",
    "          verbose = 2,\n",
    "          save_dir = './savemodel',\n",
    "          save_freq = 10,\n",
    "          log_freq = 100,\n",
    "          callbacks = [paddle.callbacks.VisualDL('./log')])"
   ]
  },
  {
   "cell_type": "markdown",
   "metadata": {
    "tags": []
   },
   "source": [
    "100个epoch下的loss与Accuracy曲线图：\n",
    "\n",
    "\n",
    "![](https://ai-studio-static-online.cdn.bcebos.com/5d3d36cec8b0412092cf086eddf8f03d3de23a19a0774a0eb19582beac8ab4e8)\n",
    "\n"
   ]
  },
  {
   "cell_type": "markdown",
   "metadata": {},
   "source": [
    "# 6. 结果预测\n",
    "使用测试集进行结果的预测，并计算BLEU得分。\n"
   ]
  },
  {
   "cell_type": "code",
   "execution_count": 28,
   "metadata": {
    "execution": {
     "iopub.execute_input": "2022-12-15T07:23:55.382797Z",
     "iopub.status.busy": "2022-12-15T07:23:55.382482Z",
     "iopub.status.idle": "2022-12-15T07:23:55.550930Z",
     "shell.execute_reply": "2022-12-15T07:23:55.550197Z",
     "shell.execute_reply.started": "2022-12-15T07:23:55.382760Z"
    },
    "scrolled": true,
    "tags": []
   },
   "outputs": [
    {
     "name": "stdout",
     "output_type": "stream",
     "text": [
      "英语：who ate the bread \r\n",
      "真实的西班牙语: quién se comió el pan \r\n",
      "预测的西班牙语 quién se comió el pan \r\n",
      "BLEU:1.0\r\n",
      "**************\r\n",
      "\r\n",
      "英语：because of the flood it was a bad <unk> \r\n",
      "真实的西班牙语: debido a la inundación fue una mala cosecha de arroz \r\n",
      "预测的西班牙语 debido a la inundación fue una mala costumbre diamantes \r\n",
      "BLEU:0.6389431042462724\r\n",
      "**************\r\n",
      "\r\n"
     ]
    }
   ],
   "source": [
    "bleu = BLEU()\n",
    "for data in test_loader():\n",
    "    inputs = data[:2]\n",
    "    result = model.predict_batch(inputs)[0] #[64,19,23517]\n",
    "    result = np.argmax(np.array(result), axis = -1) #[64,19]\n",
    "    \n",
    "    for i in range(2): #仅展示2条预测结果\n",
    "    #for i in range(len(result)):#展示一个batch的结果\n",
    "        eng = [id2eng_dict[id]+' ' for id in data[0][i].tolist() if id !=0]\n",
    "        spa_real = [id2spa_dict[id]+' ' for id in data[1][i][1:].tolist() if id !=0 and id !=3]\n",
    "        spa_pre = [id2spa_dict[id]+' ' for id in result[i] if id !=0 and id !=3]\n",
    "        bleu_score = bleu.add_inst(spa_real, [spa_pre])\n",
    "        sequence = \"英语：\"+\"\".join(eng)+\"\\n真实的西班牙语: \"+\"\".join(spa_real)+\"\\n预测的西班牙语 \"+\"\".join(spa_pre) +\"\\nBLEU:\"+str(bleu.score())+\"\\n**************\\n\"\n",
    "        bleu.reset()\n",
    "        print(sequence)\n",
    "    break"
   ]
  }
 ],
 "metadata": {
  "kernelspec": {
   "display_name": "Python 3",
   "language": "python",
   "name": "python3"
  },
  "language_info": {
   "codemirror_mode": {
    "name": "ipython",
    "version": 3
   },
   "file_extension": ".py",
   "mimetype": "text/x-python",
   "name": "python",
   "nbconvert_exporter": "python",
   "pygments_lexer": "ipython3",
   "version": "3.9.2rc1 (tags/v3.9.2rc1:4064156, Feb 17 2021, 11:25:18) [MSC v.1928 64 bit (AMD64)]"
  },
  "vscode": {
   "interpreter": {
    "hash": "2469a70536e4d2335a2ea8907942d0699c37342a371ac185bdb5b0aa6f073890"
   }
  }
 },
 "nbformat": 4,
 "nbformat_minor": 4
}
